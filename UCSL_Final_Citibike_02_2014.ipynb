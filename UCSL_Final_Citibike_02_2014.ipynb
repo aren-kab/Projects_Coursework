{
 "cells": [
  {
   "cell_type": "code",
   "execution_count": 1,
   "metadata": {},
   "outputs": [],
   "source": [
    "import pandas as pd\n",
    "import numpy as np\n",
    "import matplotlib.pyplot as plt\n",
    "import matplotlib.gridspec as gridspec\n",
    "plt.style.use('seaborn-darkgrid')\n",
    "import datetime as dt"
   ]
  },
  {
   "cell_type": "code",
   "execution_count": 2,
   "metadata": {},
   "outputs": [],
   "source": [
    "citibike_feb = pd.read_csv(\"D:/PhotonUser/My Files/Temporary Files/2014-02 - Citi Bike trip data.csv\")"
   ]
  },
  {
   "cell_type": "code",
   "execution_count": 3,
   "metadata": {},
   "outputs": [
    {
     "data": {
      "text/html": [
       "<div>\n",
       "<style scoped>\n",
       "    .dataframe tbody tr th:only-of-type {\n",
       "        vertical-align: middle;\n",
       "    }\n",
       "\n",
       "    .dataframe tbody tr th {\n",
       "        vertical-align: top;\n",
       "    }\n",
       "\n",
       "    .dataframe thead th {\n",
       "        text-align: right;\n",
       "    }\n",
       "</style>\n",
       "<table border=\"1\" class=\"dataframe\">\n",
       "  <thead>\n",
       "    <tr style=\"text-align: right;\">\n",
       "      <th></th>\n",
       "      <th>tripduration</th>\n",
       "      <th>starttime</th>\n",
       "      <th>stoptime</th>\n",
       "      <th>start station id</th>\n",
       "      <th>start station name</th>\n",
       "      <th>start station latitude</th>\n",
       "      <th>start station longitude</th>\n",
       "      <th>end station id</th>\n",
       "      <th>end station name</th>\n",
       "      <th>end station latitude</th>\n",
       "      <th>end station longitude</th>\n",
       "      <th>bikeid</th>\n",
       "      <th>usertype</th>\n",
       "      <th>birth year</th>\n",
       "      <th>gender</th>\n",
       "    </tr>\n",
       "  </thead>\n",
       "  <tbody>\n",
       "    <tr>\n",
       "      <th>0</th>\n",
       "      <td>382</td>\n",
       "      <td>2014-02-01 00:00:00</td>\n",
       "      <td>2014-02-01 00:06:22</td>\n",
       "      <td>294</td>\n",
       "      <td>Washington Square E</td>\n",
       "      <td>40.730494</td>\n",
       "      <td>-73.995721</td>\n",
       "      <td>265</td>\n",
       "      <td>Stanton St &amp; Chrystie St</td>\n",
       "      <td>40.722293</td>\n",
       "      <td>-73.991475</td>\n",
       "      <td>21101</td>\n",
       "      <td>Subscriber</td>\n",
       "      <td>1991</td>\n",
       "      <td>1</td>\n",
       "    </tr>\n",
       "    <tr>\n",
       "      <th>1</th>\n",
       "      <td>372</td>\n",
       "      <td>2014-02-01 00:00:03</td>\n",
       "      <td>2014-02-01 00:06:15</td>\n",
       "      <td>285</td>\n",
       "      <td>Broadway &amp; E 14 St</td>\n",
       "      <td>40.734546</td>\n",
       "      <td>-73.990741</td>\n",
       "      <td>439</td>\n",
       "      <td>E 4 St &amp; 2 Ave</td>\n",
       "      <td>40.726281</td>\n",
       "      <td>-73.989780</td>\n",
       "      <td>15456</td>\n",
       "      <td>Subscriber</td>\n",
       "      <td>1979</td>\n",
       "      <td>2</td>\n",
       "    </tr>\n",
       "    <tr>\n",
       "      <th>2</th>\n",
       "      <td>591</td>\n",
       "      <td>2014-02-01 00:00:09</td>\n",
       "      <td>2014-02-01 00:10:00</td>\n",
       "      <td>247</td>\n",
       "      <td>Perry St &amp; Bleecker St</td>\n",
       "      <td>40.735354</td>\n",
       "      <td>-74.004831</td>\n",
       "      <td>251</td>\n",
       "      <td>Mott St &amp; Prince St</td>\n",
       "      <td>40.723180</td>\n",
       "      <td>-73.994800</td>\n",
       "      <td>16281</td>\n",
       "      <td>Subscriber</td>\n",
       "      <td>1948</td>\n",
       "      <td>2</td>\n",
       "    </tr>\n",
       "    <tr>\n",
       "      <th>3</th>\n",
       "      <td>583</td>\n",
       "      <td>2014-02-01 00:00:32</td>\n",
       "      <td>2014-02-01 00:10:15</td>\n",
       "      <td>357</td>\n",
       "      <td>E 11 St &amp; Broadway</td>\n",
       "      <td>40.732618</td>\n",
       "      <td>-73.991580</td>\n",
       "      <td>284</td>\n",
       "      <td>Greenwich Ave &amp; 8 Ave</td>\n",
       "      <td>40.739017</td>\n",
       "      <td>-74.002638</td>\n",
       "      <td>17400</td>\n",
       "      <td>Subscriber</td>\n",
       "      <td>1981</td>\n",
       "      <td>1</td>\n",
       "    </tr>\n",
       "    <tr>\n",
       "      <th>4</th>\n",
       "      <td>223</td>\n",
       "      <td>2014-02-01 00:00:41</td>\n",
       "      <td>2014-02-01 00:04:24</td>\n",
       "      <td>401</td>\n",
       "      <td>Allen St &amp; Rivington St</td>\n",
       "      <td>40.720196</td>\n",
       "      <td>-73.989978</td>\n",
       "      <td>439</td>\n",
       "      <td>E 4 St &amp; 2 Ave</td>\n",
       "      <td>40.726281</td>\n",
       "      <td>-73.989780</td>\n",
       "      <td>19341</td>\n",
       "      <td>Subscriber</td>\n",
       "      <td>1990</td>\n",
       "      <td>1</td>\n",
       "    </tr>\n",
       "  </tbody>\n",
       "</table>\n",
       "</div>"
      ],
      "text/plain": [
       "   tripduration            starttime             stoptime  start station id  \\\n",
       "0           382  2014-02-01 00:00:00  2014-02-01 00:06:22               294   \n",
       "1           372  2014-02-01 00:00:03  2014-02-01 00:06:15               285   \n",
       "2           591  2014-02-01 00:00:09  2014-02-01 00:10:00               247   \n",
       "3           583  2014-02-01 00:00:32  2014-02-01 00:10:15               357   \n",
       "4           223  2014-02-01 00:00:41  2014-02-01 00:04:24               401   \n",
       "\n",
       "        start station name  start station latitude  start station longitude  \\\n",
       "0      Washington Square E               40.730494               -73.995721   \n",
       "1       Broadway & E 14 St               40.734546               -73.990741   \n",
       "2   Perry St & Bleecker St               40.735354               -74.004831   \n",
       "3       E 11 St & Broadway               40.732618               -73.991580   \n",
       "4  Allen St & Rivington St               40.720196               -73.989978   \n",
       "\n",
       "   end station id          end station name  end station latitude  \\\n",
       "0             265  Stanton St & Chrystie St             40.722293   \n",
       "1             439            E 4 St & 2 Ave             40.726281   \n",
       "2             251       Mott St & Prince St             40.723180   \n",
       "3             284     Greenwich Ave & 8 Ave             40.739017   \n",
       "4             439            E 4 St & 2 Ave             40.726281   \n",
       "\n",
       "   end station longitude  bikeid    usertype birth year  gender  \n",
       "0             -73.991475   21101  Subscriber       1991       1  \n",
       "1             -73.989780   15456  Subscriber       1979       2  \n",
       "2             -73.994800   16281  Subscriber       1948       2  \n",
       "3             -74.002638   17400  Subscriber       1981       1  \n",
       "4             -73.989780   19341  Subscriber       1990       1  "
      ]
     },
     "execution_count": 3,
     "metadata": {},
     "output_type": "execute_result"
    }
   ],
   "source": [
    "citibike_feb.head()"
   ]
  },
  {
   "cell_type": "code",
   "execution_count": 4,
   "metadata": {},
   "outputs": [],
   "source": [
    "#remember trip duration = Trip Duration (seconds)\n",
    "#User Type (Customer = 24-hour pass or 3-day pass user; Subscriber = Annual Member)\n",
    "#Gender (Zero=unknown; 1=male; 2=female)"
   ]
  },
  {
   "cell_type": "code",
   "execution_count": 5,
   "metadata": {},
   "outputs": [
    {
     "data": {
      "text/plain": [
       "tripduration                 int64\n",
       "starttime                   object\n",
       "stoptime                    object\n",
       "start station id             int64\n",
       "start station name          object\n",
       "start station latitude     float64\n",
       "start station longitude    float64\n",
       "end station id               int64\n",
       "end station name            object\n",
       "end station latitude       float64\n",
       "end station longitude      float64\n",
       "bikeid                       int64\n",
       "usertype                    object\n",
       "birth year                  object\n",
       "gender                       int64\n",
       "dtype: object"
      ]
     },
     "execution_count": 5,
     "metadata": {},
     "output_type": "execute_result"
    }
   ],
   "source": [
    "#check data types\n",
    "citibike_feb.dtypes"
   ]
  },
  {
   "cell_type": "markdown",
   "metadata": {},
   "source": [
    "### Task 2. Calculate Min,  Max and Average trip time. Print the Results"
   ]
  },
  {
   "cell_type": "code",
   "execution_count": 6,
   "metadata": {},
   "outputs": [],
   "source": [
    "#def a function to convert int to time format\n",
    "def conv_time_format(value): \n",
    "    print(str(pd.Timedelta(value,unit='s')))"
   ]
  },
  {
   "cell_type": "code",
   "execution_count": 7,
   "metadata": {},
   "outputs": [
    {
     "name": "stdout",
     "output_type": "stream",
     "text": [
      "min trip time is\n",
      "0 days 00:01:00\n"
     ]
    }
   ],
   "source": [
    "#min trip time\n",
    "mintriptime =citibike_feb['tripduration'].min()\n",
    "print('min trip time is') \n",
    "conv_time_format(mintriptime)\n"
   ]
  },
  {
   "cell_type": "code",
   "execution_count": 8,
   "metadata": {},
   "outputs": [
    {
     "name": "stdout",
     "output_type": "stream",
     "text": [
      "max trip time is \n",
      "8 days 20:48:28\n"
     ]
    }
   ],
   "source": [
    "#max trip time\n",
    "maxtriptime = citibike_feb['tripduration'].max()\n",
    "print('max trip time is ')\n",
    "conv_time_format(maxtriptime)"
   ]
  },
  {
   "cell_type": "code",
   "execution_count": 9,
   "metadata": {},
   "outputs": [
    {
     "name": "stdout",
     "output_type": "stream",
     "text": [
      "average trip time is \n",
      "0 days 00:14:34.519809\n"
     ]
    }
   ],
   "source": [
    "#averagetriptime\n",
    "averagetriptime = citibike_feb['tripduration'].mean()\n",
    "print('average trip time is ')\n",
    "conv_time_format(averagetriptime)"
   ]
  },
  {
   "cell_type": "markdown",
   "metadata": {},
   "source": [
    "### Task 3. Calculate ridesrship over the period of a month broken fown by rider gender (male/female) and rider type (subscriber-tourist). Vizualise the results "
   ]
  },
  {
   "cell_type": "code",
   "execution_count": 10,
   "metadata": {},
   "outputs": [
    {
     "data": {
      "text/plain": [
       "array(['Subscriber', 'Customer'], dtype=object)"
      ]
     },
     "execution_count": 10,
     "metadata": {},
     "output_type": "execute_result"
    }
   ],
   "source": [
    "#let's confirm user type is what we need \n",
    "citibike_feb['usertype'].unique()"
   ]
  },
  {
   "cell_type": "code",
   "execution_count": 11,
   "metadata": {},
   "outputs": [],
   "source": [
    "#let's rename the gender to be less confusing now, define a new df to preserve original -\n",
    "citibike_feb_gender = citibike_feb"
   ]
  },
  {
   "cell_type": "code",
   "execution_count": 12,
   "metadata": {},
   "outputs": [],
   "source": [
    "#unknown first - 0 to unknown\n",
    "citibike_feb_gender['gender'] = citibike_feb['gender'].replace([0],'unknown')"
   ]
  },
  {
   "cell_type": "code",
   "execution_count": 13,
   "metadata": {},
   "outputs": [],
   "source": [
    "#rename 1 to male\n",
    "citibike_feb_gender['gender'] = citibike_feb['gender'].replace([1],'Male')"
   ]
  },
  {
   "cell_type": "code",
   "execution_count": 14,
   "metadata": {},
   "outputs": [],
   "source": [
    "#rename 2 to female\n",
    "citibike_feb_gender['gender'] = citibike_feb['gender'].replace([2],'Female')"
   ]
  },
  {
   "cell_type": "code",
   "execution_count": 15,
   "metadata": {},
   "outputs": [
    {
     "data": {
      "text/html": [
       "<div>\n",
       "<style scoped>\n",
       "    .dataframe tbody tr th:only-of-type {\n",
       "        vertical-align: middle;\n",
       "    }\n",
       "\n",
       "    .dataframe tbody tr th {\n",
       "        vertical-align: top;\n",
       "    }\n",
       "\n",
       "    .dataframe thead th {\n",
       "        text-align: right;\n",
       "    }\n",
       "</style>\n",
       "<table border=\"1\" class=\"dataframe\">\n",
       "  <thead>\n",
       "    <tr style=\"text-align: right;\">\n",
       "      <th></th>\n",
       "      <th>tripduration</th>\n",
       "      <th>starttime</th>\n",
       "      <th>stoptime</th>\n",
       "      <th>start station id</th>\n",
       "      <th>start station name</th>\n",
       "      <th>start station latitude</th>\n",
       "      <th>start station longitude</th>\n",
       "      <th>end station id</th>\n",
       "      <th>end station name</th>\n",
       "      <th>end station latitude</th>\n",
       "      <th>end station longitude</th>\n",
       "      <th>bikeid</th>\n",
       "      <th>usertype</th>\n",
       "      <th>birth year</th>\n",
       "      <th>gender</th>\n",
       "    </tr>\n",
       "  </thead>\n",
       "  <tbody>\n",
       "    <tr>\n",
       "      <th>0</th>\n",
       "      <td>382</td>\n",
       "      <td>2014-02-01 00:00:00</td>\n",
       "      <td>2014-02-01 00:06:22</td>\n",
       "      <td>294</td>\n",
       "      <td>Washington Square E</td>\n",
       "      <td>40.730494</td>\n",
       "      <td>-73.995721</td>\n",
       "      <td>265</td>\n",
       "      <td>Stanton St &amp; Chrystie St</td>\n",
       "      <td>40.722293</td>\n",
       "      <td>-73.991475</td>\n",
       "      <td>21101</td>\n",
       "      <td>Subscriber</td>\n",
       "      <td>1991</td>\n",
       "      <td>Male</td>\n",
       "    </tr>\n",
       "    <tr>\n",
       "      <th>1</th>\n",
       "      <td>372</td>\n",
       "      <td>2014-02-01 00:00:03</td>\n",
       "      <td>2014-02-01 00:06:15</td>\n",
       "      <td>285</td>\n",
       "      <td>Broadway &amp; E 14 St</td>\n",
       "      <td>40.734546</td>\n",
       "      <td>-73.990741</td>\n",
       "      <td>439</td>\n",
       "      <td>E 4 St &amp; 2 Ave</td>\n",
       "      <td>40.726281</td>\n",
       "      <td>-73.989780</td>\n",
       "      <td>15456</td>\n",
       "      <td>Subscriber</td>\n",
       "      <td>1979</td>\n",
       "      <td>Female</td>\n",
       "    </tr>\n",
       "    <tr>\n",
       "      <th>2</th>\n",
       "      <td>591</td>\n",
       "      <td>2014-02-01 00:00:09</td>\n",
       "      <td>2014-02-01 00:10:00</td>\n",
       "      <td>247</td>\n",
       "      <td>Perry St &amp; Bleecker St</td>\n",
       "      <td>40.735354</td>\n",
       "      <td>-74.004831</td>\n",
       "      <td>251</td>\n",
       "      <td>Mott St &amp; Prince St</td>\n",
       "      <td>40.723180</td>\n",
       "      <td>-73.994800</td>\n",
       "      <td>16281</td>\n",
       "      <td>Subscriber</td>\n",
       "      <td>1948</td>\n",
       "      <td>Female</td>\n",
       "    </tr>\n",
       "    <tr>\n",
       "      <th>3</th>\n",
       "      <td>583</td>\n",
       "      <td>2014-02-01 00:00:32</td>\n",
       "      <td>2014-02-01 00:10:15</td>\n",
       "      <td>357</td>\n",
       "      <td>E 11 St &amp; Broadway</td>\n",
       "      <td>40.732618</td>\n",
       "      <td>-73.991580</td>\n",
       "      <td>284</td>\n",
       "      <td>Greenwich Ave &amp; 8 Ave</td>\n",
       "      <td>40.739017</td>\n",
       "      <td>-74.002638</td>\n",
       "      <td>17400</td>\n",
       "      <td>Subscriber</td>\n",
       "      <td>1981</td>\n",
       "      <td>Male</td>\n",
       "    </tr>\n",
       "    <tr>\n",
       "      <th>4</th>\n",
       "      <td>223</td>\n",
       "      <td>2014-02-01 00:00:41</td>\n",
       "      <td>2014-02-01 00:04:24</td>\n",
       "      <td>401</td>\n",
       "      <td>Allen St &amp; Rivington St</td>\n",
       "      <td>40.720196</td>\n",
       "      <td>-73.989978</td>\n",
       "      <td>439</td>\n",
       "      <td>E 4 St &amp; 2 Ave</td>\n",
       "      <td>40.726281</td>\n",
       "      <td>-73.989780</td>\n",
       "      <td>19341</td>\n",
       "      <td>Subscriber</td>\n",
       "      <td>1990</td>\n",
       "      <td>Male</td>\n",
       "    </tr>\n",
       "  </tbody>\n",
       "</table>\n",
       "</div>"
      ],
      "text/plain": [
       "   tripduration            starttime             stoptime  start station id  \\\n",
       "0           382  2014-02-01 00:00:00  2014-02-01 00:06:22               294   \n",
       "1           372  2014-02-01 00:00:03  2014-02-01 00:06:15               285   \n",
       "2           591  2014-02-01 00:00:09  2014-02-01 00:10:00               247   \n",
       "3           583  2014-02-01 00:00:32  2014-02-01 00:10:15               357   \n",
       "4           223  2014-02-01 00:00:41  2014-02-01 00:04:24               401   \n",
       "\n",
       "        start station name  start station latitude  start station longitude  \\\n",
       "0      Washington Square E               40.730494               -73.995721   \n",
       "1       Broadway & E 14 St               40.734546               -73.990741   \n",
       "2   Perry St & Bleecker St               40.735354               -74.004831   \n",
       "3       E 11 St & Broadway               40.732618               -73.991580   \n",
       "4  Allen St & Rivington St               40.720196               -73.989978   \n",
       "\n",
       "   end station id          end station name  end station latitude  \\\n",
       "0             265  Stanton St & Chrystie St             40.722293   \n",
       "1             439            E 4 St & 2 Ave             40.726281   \n",
       "2             251       Mott St & Prince St             40.723180   \n",
       "3             284     Greenwich Ave & 8 Ave             40.739017   \n",
       "4             439            E 4 St & 2 Ave             40.726281   \n",
       "\n",
       "   end station longitude  bikeid    usertype birth year  gender  \n",
       "0             -73.991475   21101  Subscriber       1991    Male  \n",
       "1             -73.989780   15456  Subscriber       1979  Female  \n",
       "2             -73.994800   16281  Subscriber       1948  Female  \n",
       "3             -74.002638   17400  Subscriber       1981    Male  \n",
       "4             -73.989780   19341  Subscriber       1990    Male  "
      ]
     },
     "execution_count": 15,
     "metadata": {},
     "output_type": "execute_result"
    }
   ],
   "source": [
    "#check it \n",
    "citibike_feb_gender.head()"
   ]
  },
  {
   "cell_type": "code",
   "execution_count": 16,
   "metadata": {},
   "outputs": [],
   "source": [
    "#gender df define\n",
    "citibike_feb_gender_totals = citibike_feb_gender[['gender','bikeid']].groupby(by='gender').count()"
   ]
  },
  {
   "cell_type": "code",
   "execution_count": 17,
   "metadata": {},
   "outputs": [],
   "source": [
    "#gender df result\n",
    "gender_totals = citibike_feb_gender_totals['bikeid'].values"
   ]
  },
  {
   "cell_type": "code",
   "execution_count": 18,
   "metadata": {},
   "outputs": [],
   "source": [
    "#usertype df define\n",
    "citibike_feb_usertype_total = citibike_feb_gender[['usertype','bikeid']].groupby(by = 'usertype').count()"
   ]
  },
  {
   "cell_type": "code",
   "execution_count": 19,
   "metadata": {},
   "outputs": [
    {
     "data": {
      "text/html": [
       "<div>\n",
       "<style scoped>\n",
       "    .dataframe tbody tr th:only-of-type {\n",
       "        vertical-align: middle;\n",
       "    }\n",
       "\n",
       "    .dataframe tbody tr th {\n",
       "        vertical-align: top;\n",
       "    }\n",
       "\n",
       "    .dataframe thead th {\n",
       "        text-align: right;\n",
       "    }\n",
       "</style>\n",
       "<table border=\"1\" class=\"dataframe\">\n",
       "  <thead>\n",
       "    <tr style=\"text-align: right;\">\n",
       "      <th></th>\n",
       "      <th>bikeid</th>\n",
       "    </tr>\n",
       "    <tr>\n",
       "      <th>usertype</th>\n",
       "      <th></th>\n",
       "    </tr>\n",
       "  </thead>\n",
       "  <tbody>\n",
       "    <tr>\n",
       "      <th>Customer</th>\n",
       "      <td>6717</td>\n",
       "    </tr>\n",
       "    <tr>\n",
       "      <th>Subscriber</th>\n",
       "      <td>218019</td>\n",
       "    </tr>\n",
       "  </tbody>\n",
       "</table>\n",
       "</div>"
      ],
      "text/plain": [
       "            bikeid\n",
       "usertype          \n",
       "Customer      6717\n",
       "Subscriber  218019"
      ]
     },
     "execution_count": 19,
     "metadata": {},
     "output_type": "execute_result"
    }
   ],
   "source": [
    "#usertype df result\n",
    "citibike_feb_usertype_total"
   ]
  },
  {
   "cell_type": "code",
   "execution_count": 20,
   "metadata": {},
   "outputs": [],
   "source": [
    "#define user type values\n",
    "usertypevalues = citibike_feb_usertype_total['bikeid'].values"
   ]
  },
  {
   "cell_type": "code",
   "execution_count": 21,
   "metadata": {},
   "outputs": [
    {
     "data": {
      "image/png": "[encoded data removed]",
      "text/plain": [
       "<Figure size 2160x1080 with 2 Axes>"
      ]
     },
     "metadata": {},
     "output_type": "display_data"
    }
   ],
   "source": [
    "#plot\n",
    "fig1, (ax1,ax2) = plt.subplots(nrows=1, ncols=2, figsize=(30,15))\n",
    "fig1.suptitle ('Citibike Users by Gender and Type in February 2014', fontsize=35)\n",
    "\n",
    "x = ['Female', 'Male', 'Unknown']\n",
    "y = gender_totals\n",
    "ax1.bar(x,y)\n",
    "ax1.set_title('Citibike Users By Gender', fontsize = 30)\n",
    "ax1.set_xlabel('Gender', fontsize=25)\n",
    "ax1.set_ylabel('Citibike Users', fontsize=25)\n",
    "ax1.tick_params(axis='both', which='major', labelsize=18)\n",
    "ax1.tick_params(axis='both', which='minor', labelsize=18)\n",
    "\n",
    "a = ['Tourist', 'Subscriber']\n",
    "b = usertypevalues\n",
    "ax2.bar(a,b)\n",
    "ax2.set_title('Citibike Users By User Type', fontsize = 30)\n",
    "ax2.set_xlabel('User Type', fontsize=25)\n",
    "ax2.set_ylabel('Citibike Users', fontsize=25)\n",
    "ax2.tick_params(axis='both', which='major', labelsize=18)\n",
    "ax2.tick_params(axis='both', which='minor', labelsize=18)"
   ]
  },
  {
   "cell_type": "markdown",
   "metadata": {},
   "source": [
    "### Task 4. Calculate avg ridership over each hour of day over the selected month broken down by rider gender and rider type "
   ]
  },
  {
   "cell_type": "code",
   "execution_count": 22,
   "metadata": {},
   "outputs": [],
   "source": [
    "#avg ridership over each hour of the day b\n",
    "#first convert times to date time format\n",
    "citibike_feb['starttime'] = pd.to_datetime(citibike_feb['starttime'])\n",
    "citibike_feb['stoptime'] = pd.to_datetime(citibike_feb['stoptime'])\n",
    "#do it for the gender version too for convinience\n",
    "citibike_feb_gender['starttime'] = pd.to_datetime(citibike_feb['starttime'])\n",
    "citibike_feb_gender['stoptime'] = pd.to_datetime(citibike_feb['stoptime'])\n"
   ]
  },
  {
   "cell_type": "code",
   "execution_count": 23,
   "metadata": {},
   "outputs": [
    {
     "data": {
      "text/plain": [
       "tripduration                        int64\n",
       "starttime                  datetime64[ns]\n",
       "stoptime                   datetime64[ns]\n",
       "start station id                    int64\n",
       "start station name                 object\n",
       "start station latitude            float64\n",
       "start station longitude           float64\n",
       "end station id                      int64\n",
       "end station name                   object\n",
       "end station latitude              float64\n",
       "end station longitude             float64\n",
       "bikeid                              int64\n",
       "usertype                           object\n",
       "birth year                         object\n",
       "gender                             object\n",
       "dtype: object"
      ]
     },
     "execution_count": 23,
     "metadata": {},
     "output_type": "execute_result"
    }
   ],
   "source": [
    "#check data types\n",
    "citibike_feb_gender.dtypes"
   ]
  },
  {
   "cell_type": "code",
   "execution_count": 24,
   "metadata": {},
   "outputs": [],
   "source": [
    "#define hour as date time\n",
    "citibike_feb_gender['hour'] = citibike_feb_gender['starttime'].dt.hour"
   ]
  },
  {
   "cell_type": "code",
   "execution_count": 25,
   "metadata": {},
   "outputs": [
    {
     "data": {
      "text/html": [
       "<div>\n",
       "<style scoped>\n",
       "    .dataframe tbody tr th:only-of-type {\n",
       "        vertical-align: middle;\n",
       "    }\n",
       "\n",
       "    .dataframe tbody tr th {\n",
       "        vertical-align: top;\n",
       "    }\n",
       "\n",
       "    .dataframe thead th {\n",
       "        text-align: right;\n",
       "    }\n",
       "</style>\n",
       "<table border=\"1\" class=\"dataframe\">\n",
       "  <thead>\n",
       "    <tr style=\"text-align: right;\">\n",
       "      <th></th>\n",
       "      <th>tripduration</th>\n",
       "      <th>starttime</th>\n",
       "      <th>stoptime</th>\n",
       "      <th>start station id</th>\n",
       "      <th>start station name</th>\n",
       "      <th>start station latitude</th>\n",
       "      <th>start station longitude</th>\n",
       "      <th>end station id</th>\n",
       "      <th>end station name</th>\n",
       "      <th>end station latitude</th>\n",
       "      <th>end station longitude</th>\n",
       "      <th>bikeid</th>\n",
       "      <th>usertype</th>\n",
       "      <th>birth year</th>\n",
       "      <th>gender</th>\n",
       "      <th>hour</th>\n",
       "    </tr>\n",
       "  </thead>\n",
       "  <tbody>\n",
       "    <tr>\n",
       "      <th>0</th>\n",
       "      <td>382</td>\n",
       "      <td>2014-02-01 00:00:00</td>\n",
       "      <td>2014-02-01 00:06:22</td>\n",
       "      <td>294</td>\n",
       "      <td>Washington Square E</td>\n",
       "      <td>40.730494</td>\n",
       "      <td>-73.995721</td>\n",
       "      <td>265</td>\n",
       "      <td>Stanton St &amp; Chrystie St</td>\n",
       "      <td>40.722293</td>\n",
       "      <td>-73.991475</td>\n",
       "      <td>21101</td>\n",
       "      <td>Subscriber</td>\n",
       "      <td>1991</td>\n",
       "      <td>Male</td>\n",
       "      <td>0</td>\n",
       "    </tr>\n",
       "    <tr>\n",
       "      <th>1</th>\n",
       "      <td>372</td>\n",
       "      <td>2014-02-01 00:00:03</td>\n",
       "      <td>2014-02-01 00:06:15</td>\n",
       "      <td>285</td>\n",
       "      <td>Broadway &amp; E 14 St</td>\n",
       "      <td>40.734546</td>\n",
       "      <td>-73.990741</td>\n",
       "      <td>439</td>\n",
       "      <td>E 4 St &amp; 2 Ave</td>\n",
       "      <td>40.726281</td>\n",
       "      <td>-73.989780</td>\n",
       "      <td>15456</td>\n",
       "      <td>Subscriber</td>\n",
       "      <td>1979</td>\n",
       "      <td>Female</td>\n",
       "      <td>0</td>\n",
       "    </tr>\n",
       "    <tr>\n",
       "      <th>2</th>\n",
       "      <td>591</td>\n",
       "      <td>2014-02-01 00:00:09</td>\n",
       "      <td>2014-02-01 00:10:00</td>\n",
       "      <td>247</td>\n",
       "      <td>Perry St &amp; Bleecker St</td>\n",
       "      <td>40.735354</td>\n",
       "      <td>-74.004831</td>\n",
       "      <td>251</td>\n",
       "      <td>Mott St &amp; Prince St</td>\n",
       "      <td>40.723180</td>\n",
       "      <td>-73.994800</td>\n",
       "      <td>16281</td>\n",
       "      <td>Subscriber</td>\n",
       "      <td>1948</td>\n",
       "      <td>Female</td>\n",
       "      <td>0</td>\n",
       "    </tr>\n",
       "    <tr>\n",
       "      <th>3</th>\n",
       "      <td>583</td>\n",
       "      <td>2014-02-01 00:00:32</td>\n",
       "      <td>2014-02-01 00:10:15</td>\n",
       "      <td>357</td>\n",
       "      <td>E 11 St &amp; Broadway</td>\n",
       "      <td>40.732618</td>\n",
       "      <td>-73.991580</td>\n",
       "      <td>284</td>\n",
       "      <td>Greenwich Ave &amp; 8 Ave</td>\n",
       "      <td>40.739017</td>\n",
       "      <td>-74.002638</td>\n",
       "      <td>17400</td>\n",
       "      <td>Subscriber</td>\n",
       "      <td>1981</td>\n",
       "      <td>Male</td>\n",
       "      <td>0</td>\n",
       "    </tr>\n",
       "    <tr>\n",
       "      <th>4</th>\n",
       "      <td>223</td>\n",
       "      <td>2014-02-01 00:00:41</td>\n",
       "      <td>2014-02-01 00:04:24</td>\n",
       "      <td>401</td>\n",
       "      <td>Allen St &amp; Rivington St</td>\n",
       "      <td>40.720196</td>\n",
       "      <td>-73.989978</td>\n",
       "      <td>439</td>\n",
       "      <td>E 4 St &amp; 2 Ave</td>\n",
       "      <td>40.726281</td>\n",
       "      <td>-73.989780</td>\n",
       "      <td>19341</td>\n",
       "      <td>Subscriber</td>\n",
       "      <td>1990</td>\n",
       "      <td>Male</td>\n",
       "      <td>0</td>\n",
       "    </tr>\n",
       "    <tr>\n",
       "      <th>...</th>\n",
       "      <td>...</td>\n",
       "      <td>...</td>\n",
       "      <td>...</td>\n",
       "      <td>...</td>\n",
       "      <td>...</td>\n",
       "      <td>...</td>\n",
       "      <td>...</td>\n",
       "      <td>...</td>\n",
       "      <td>...</td>\n",
       "      <td>...</td>\n",
       "      <td>...</td>\n",
       "      <td>...</td>\n",
       "      <td>...</td>\n",
       "      <td>...</td>\n",
       "      <td>...</td>\n",
       "      <td>...</td>\n",
       "    </tr>\n",
       "    <tr>\n",
       "      <th>224731</th>\n",
       "      <td>848</td>\n",
       "      <td>2014-02-28 23:57:13</td>\n",
       "      <td>2014-03-01 00:11:21</td>\n",
       "      <td>498</td>\n",
       "      <td>Broadway &amp; W 32 St</td>\n",
       "      <td>40.748549</td>\n",
       "      <td>-73.988084</td>\n",
       "      <td>432</td>\n",
       "      <td>E 7 St &amp; Avenue A</td>\n",
       "      <td>40.726218</td>\n",
       "      <td>-73.983799</td>\n",
       "      <td>17413</td>\n",
       "      <td>Subscriber</td>\n",
       "      <td>1976</td>\n",
       "      <td>Male</td>\n",
       "      <td>23</td>\n",
       "    </tr>\n",
       "    <tr>\n",
       "      <th>224732</th>\n",
       "      <td>1355</td>\n",
       "      <td>2014-02-28 23:57:55</td>\n",
       "      <td>2014-03-01 00:20:30</td>\n",
       "      <td>470</td>\n",
       "      <td>W 20 St &amp; 8 Ave</td>\n",
       "      <td>40.743453</td>\n",
       "      <td>-74.000040</td>\n",
       "      <td>302</td>\n",
       "      <td>Avenue D &amp; E 3 St</td>\n",
       "      <td>40.720828</td>\n",
       "      <td>-73.977932</td>\n",
       "      <td>15608</td>\n",
       "      <td>Subscriber</td>\n",
       "      <td>1985</td>\n",
       "      <td>Female</td>\n",
       "      <td>23</td>\n",
       "    </tr>\n",
       "    <tr>\n",
       "      <th>224733</th>\n",
       "      <td>304</td>\n",
       "      <td>2014-02-28 23:58:17</td>\n",
       "      <td>2014-03-01 00:03:21</td>\n",
       "      <td>497</td>\n",
       "      <td>E 17 St &amp; Broadway</td>\n",
       "      <td>40.737050</td>\n",
       "      <td>-73.990093</td>\n",
       "      <td>334</td>\n",
       "      <td>W 20 St &amp; 7 Ave</td>\n",
       "      <td>40.742388</td>\n",
       "      <td>-73.997262</td>\n",
       "      <td>17112</td>\n",
       "      <td>Subscriber</td>\n",
       "      <td>1968</td>\n",
       "      <td>Male</td>\n",
       "      <td>23</td>\n",
       "    </tr>\n",
       "    <tr>\n",
       "      <th>224734</th>\n",
       "      <td>308</td>\n",
       "      <td>2014-02-28 23:59:10</td>\n",
       "      <td>2014-03-01 00:04:18</td>\n",
       "      <td>353</td>\n",
       "      <td>S Portland Ave &amp; Hanson Pl</td>\n",
       "      <td>40.685396</td>\n",
       "      <td>-73.974315</td>\n",
       "      <td>365</td>\n",
       "      <td>Fulton St &amp; Grand Ave</td>\n",
       "      <td>40.682232</td>\n",
       "      <td>-73.961458</td>\n",
       "      <td>14761</td>\n",
       "      <td>Subscriber</td>\n",
       "      <td>1982</td>\n",
       "      <td>Male</td>\n",
       "      <td>23</td>\n",
       "    </tr>\n",
       "    <tr>\n",
       "      <th>224735</th>\n",
       "      <td>603</td>\n",
       "      <td>2014-02-28 23:59:47</td>\n",
       "      <td>2014-03-01 00:09:50</td>\n",
       "      <td>252</td>\n",
       "      <td>MacDougal St &amp; Washington Sq</td>\n",
       "      <td>40.732264</td>\n",
       "      <td>-73.998522</td>\n",
       "      <td>475</td>\n",
       "      <td>E 16 St &amp; Irving Pl</td>\n",
       "      <td>40.735243</td>\n",
       "      <td>-73.987586</td>\n",
       "      <td>18783</td>\n",
       "      <td>Subscriber</td>\n",
       "      <td>1960</td>\n",
       "      <td>Male</td>\n",
       "      <td>23</td>\n",
       "    </tr>\n",
       "  </tbody>\n",
       "</table>\n",
       "<p>224736 rows × 16 columns</p>\n",
       "</div>"
      ],
      "text/plain": [
       "        tripduration           starttime            stoptime  \\\n",
       "0                382 2014-02-01 00:00:00 2014-02-01 00:06:22   \n",
       "1                372 2014-02-01 00:00:03 2014-02-01 00:06:15   \n",
       "2                591 2014-02-01 00:00:09 2014-02-01 00:10:00   \n",
       "3                583 2014-02-01 00:00:32 2014-02-01 00:10:15   \n",
       "4                223 2014-02-01 00:00:41 2014-02-01 00:04:24   \n",
       "...              ...                 ...                 ...   \n",
       "224731           848 2014-02-28 23:57:13 2014-03-01 00:11:21   \n",
       "224732          1355 2014-02-28 23:57:55 2014-03-01 00:20:30   \n",
       "224733           304 2014-02-28 23:58:17 2014-03-01 00:03:21   \n",
       "224734           308 2014-02-28 23:59:10 2014-03-01 00:04:18   \n",
       "224735           603 2014-02-28 23:59:47 2014-03-01 00:09:50   \n",
       "\n",
       "        start station id            start station name  \\\n",
       "0                    294           Washington Square E   \n",
       "1                    285            Broadway & E 14 St   \n",
       "2                    247        Perry St & Bleecker St   \n",
       "3                    357            E 11 St & Broadway   \n",
       "4                    401       Allen St & Rivington St   \n",
       "...                  ...                           ...   \n",
       "224731               498            Broadway & W 32 St   \n",
       "224732               470               W 20 St & 8 Ave   \n",
       "224733               497            E 17 St & Broadway   \n",
       "224734               353    S Portland Ave & Hanson Pl   \n",
       "224735               252  MacDougal St & Washington Sq   \n",
       "\n",
       "        start station latitude  start station longitude  end station id  \\\n",
       "0                    40.730494               -73.995721             265   \n",
       "1                    40.734546               -73.990741             439   \n",
       "2                    40.735354               -74.004831             251   \n",
       "3                    40.732618               -73.991580             284   \n",
       "4                    40.720196               -73.989978             439   \n",
       "...                        ...                      ...             ...   \n",
       "224731               40.748549               -73.988084             432   \n",
       "224732               40.743453               -74.000040             302   \n",
       "224733               40.737050               -73.990093             334   \n",
       "224734               40.685396               -73.974315             365   \n",
       "224735               40.732264               -73.998522             475   \n",
       "\n",
       "                end station name  end station latitude  end station longitude  \\\n",
       "0       Stanton St & Chrystie St             40.722293             -73.991475   \n",
       "1                 E 4 St & 2 Ave             40.726281             -73.989780   \n",
       "2            Mott St & Prince St             40.723180             -73.994800   \n",
       "3          Greenwich Ave & 8 Ave             40.739017             -74.002638   \n",
       "4                 E 4 St & 2 Ave             40.726281             -73.989780   \n",
       "...                          ...                   ...                    ...   \n",
       "224731         E 7 St & Avenue A             40.726218             -73.983799   \n",
       "224732         Avenue D & E 3 St             40.720828             -73.977932   \n",
       "224733           W 20 St & 7 Ave             40.742388             -73.997262   \n",
       "224734     Fulton St & Grand Ave             40.682232             -73.961458   \n",
       "224735       E 16 St & Irving Pl             40.735243             -73.987586   \n",
       "\n",
       "        bikeid    usertype birth year  gender  hour  \n",
       "0        21101  Subscriber       1991    Male     0  \n",
       "1        15456  Subscriber       1979  Female     0  \n",
       "2        16281  Subscriber       1948  Female     0  \n",
       "3        17400  Subscriber       1981    Male     0  \n",
       "4        19341  Subscriber       1990    Male     0  \n",
       "...        ...         ...        ...     ...   ...  \n",
       "224731   17413  Subscriber       1976    Male    23  \n",
       "224732   15608  Subscriber       1985  Female    23  \n",
       "224733   17112  Subscriber       1968    Male    23  \n",
       "224734   14761  Subscriber       1982    Male    23  \n",
       "224735   18783  Subscriber       1960    Male    23  \n",
       "\n",
       "[224736 rows x 16 columns]"
      ]
     },
     "execution_count": 25,
     "metadata": {},
     "output_type": "execute_result"
    }
   ],
   "source": [
    "#reprint df\n",
    "citibike_feb_gender"
   ]
  },
  {
   "cell_type": "code",
   "execution_count": 26,
   "metadata": {},
   "outputs": [],
   "source": [
    "#define df for gender and user type\n",
    "citibike_hour_gender = citibike_feb_gender[['hour','gender']].groupby(by='hour')"
   ]
  },
  {
   "cell_type": "code",
   "execution_count": 27,
   "metadata": {},
   "outputs": [],
   "source": [
    "#get gender values\n",
    "hourgender = citibike_hour_gender['gender'].value_counts()"
   ]
  },
  {
   "cell_type": "code",
   "execution_count": 28,
   "metadata": {},
   "outputs": [],
   "source": [
    "#convert back to frame\n",
    "hourgenderdf = hourgender.to_frame()"
   ]
  },
  {
   "cell_type": "code",
   "execution_count": 29,
   "metadata": {
    "scrolled": true
   },
   "outputs": [
    {
     "data": {
      "text/html": [
       "<div>\n",
       "<style scoped>\n",
       "    .dataframe tbody tr th:only-of-type {\n",
       "        vertical-align: middle;\n",
       "    }\n",
       "\n",
       "    .dataframe tbody tr th {\n",
       "        vertical-align: top;\n",
       "    }\n",
       "\n",
       "    .dataframe thead th {\n",
       "        text-align: right;\n",
       "    }\n",
       "</style>\n",
       "<table border=\"1\" class=\"dataframe\">\n",
       "  <thead>\n",
       "    <tr style=\"text-align: right;\">\n",
       "      <th></th>\n",
       "      <th></th>\n",
       "      <th>gender</th>\n",
       "    </tr>\n",
       "    <tr>\n",
       "      <th>hour</th>\n",
       "      <th>gender</th>\n",
       "      <th></th>\n",
       "    </tr>\n",
       "  </thead>\n",
       "  <tbody>\n",
       "    <tr>\n",
       "      <th rowspan=\"3\" valign=\"top\">0</th>\n",
       "      <th>Male</th>\n",
       "      <td>1764</td>\n",
       "    </tr>\n",
       "    <tr>\n",
       "      <th>Female</th>\n",
       "      <td>328</td>\n",
       "    </tr>\n",
       "    <tr>\n",
       "      <th>unknown</th>\n",
       "      <td>29</td>\n",
       "    </tr>\n",
       "    <tr>\n",
       "      <th rowspan=\"2\" valign=\"top\">1</th>\n",
       "      <th>Male</th>\n",
       "      <td>986</td>\n",
       "    </tr>\n",
       "    <tr>\n",
       "      <th>Female</th>\n",
       "      <td>168</td>\n",
       "    </tr>\n",
       "    <tr>\n",
       "      <th>...</th>\n",
       "      <th>...</th>\n",
       "      <td>...</td>\n",
       "    </tr>\n",
       "    <tr>\n",
       "      <th rowspan=\"2\" valign=\"top\">22</th>\n",
       "      <th>Female</th>\n",
       "      <td>938</td>\n",
       "    </tr>\n",
       "    <tr>\n",
       "      <th>unknown</th>\n",
       "      <td>127</td>\n",
       "    </tr>\n",
       "    <tr>\n",
       "      <th rowspan=\"3\" valign=\"top\">23</th>\n",
       "      <th>Male</th>\n",
       "      <td>2873</td>\n",
       "    </tr>\n",
       "    <tr>\n",
       "      <th>Female</th>\n",
       "      <td>622</td>\n",
       "    </tr>\n",
       "    <tr>\n",
       "      <th>unknown</th>\n",
       "      <td>74</td>\n",
       "    </tr>\n",
       "  </tbody>\n",
       "</table>\n",
       "<p>72 rows × 1 columns</p>\n",
       "</div>"
      ],
      "text/plain": [
       "              gender\n",
       "hour gender         \n",
       "0    Male       1764\n",
       "     Female      328\n",
       "     unknown      29\n",
       "1    Male        986\n",
       "     Female      168\n",
       "...              ...\n",
       "22   Female      938\n",
       "     unknown     127\n",
       "23   Male       2873\n",
       "     Female      622\n",
       "     unknown      74\n",
       "\n",
       "[72 rows x 1 columns]"
      ]
     },
     "execution_count": 29,
     "metadata": {},
     "output_type": "execute_result"
    }
   ],
   "source": [
    "#display\n",
    "hourgenderdf"
   ]
  },
  {
   "cell_type": "code",
   "execution_count": 30,
   "metadata": {},
   "outputs": [],
   "source": [
    "#reset index\n",
    "hourgenderdf.reset_index(level=0, inplace=True)"
   ]
  },
  {
   "cell_type": "code",
   "execution_count": 31,
   "metadata": {},
   "outputs": [],
   "source": [
    "#rename columns \n",
    "hourgenderdf.columns = ['hour','gender_counts']"
   ]
  },
  {
   "cell_type": "code",
   "execution_count": 32,
   "metadata": {},
   "outputs": [
    {
     "data": {
      "text/html": [
       "<div>\n",
       "<style scoped>\n",
       "    .dataframe tbody tr th:only-of-type {\n",
       "        vertical-align: middle;\n",
       "    }\n",
       "\n",
       "    .dataframe tbody tr th {\n",
       "        vertical-align: top;\n",
       "    }\n",
       "\n",
       "    .dataframe thead th {\n",
       "        text-align: right;\n",
       "    }\n",
       "</style>\n",
       "<table border=\"1\" class=\"dataframe\">\n",
       "  <thead>\n",
       "    <tr style=\"text-align: right;\">\n",
       "      <th></th>\n",
       "      <th>hour</th>\n",
       "      <th>gender_counts</th>\n",
       "    </tr>\n",
       "    <tr>\n",
       "      <th>gender</th>\n",
       "      <th></th>\n",
       "      <th></th>\n",
       "    </tr>\n",
       "  </thead>\n",
       "  <tbody>\n",
       "    <tr>\n",
       "      <th>Male</th>\n",
       "      <td>0</td>\n",
       "      <td>1764</td>\n",
       "    </tr>\n",
       "    <tr>\n",
       "      <th>Female</th>\n",
       "      <td>0</td>\n",
       "      <td>328</td>\n",
       "    </tr>\n",
       "    <tr>\n",
       "      <th>unknown</th>\n",
       "      <td>0</td>\n",
       "      <td>29</td>\n",
       "    </tr>\n",
       "    <tr>\n",
       "      <th>Male</th>\n",
       "      <td>1</td>\n",
       "      <td>986</td>\n",
       "    </tr>\n",
       "    <tr>\n",
       "      <th>Female</th>\n",
       "      <td>1</td>\n",
       "      <td>168</td>\n",
       "    </tr>\n",
       "    <tr>\n",
       "      <th>...</th>\n",
       "      <td>...</td>\n",
       "      <td>...</td>\n",
       "    </tr>\n",
       "    <tr>\n",
       "      <th>Female</th>\n",
       "      <td>22</td>\n",
       "      <td>938</td>\n",
       "    </tr>\n",
       "    <tr>\n",
       "      <th>unknown</th>\n",
       "      <td>22</td>\n",
       "      <td>127</td>\n",
       "    </tr>\n",
       "    <tr>\n",
       "      <th>Male</th>\n",
       "      <td>23</td>\n",
       "      <td>2873</td>\n",
       "    </tr>\n",
       "    <tr>\n",
       "      <th>Female</th>\n",
       "      <td>23</td>\n",
       "      <td>622</td>\n",
       "    </tr>\n",
       "    <tr>\n",
       "      <th>unknown</th>\n",
       "      <td>23</td>\n",
       "      <td>74</td>\n",
       "    </tr>\n",
       "  </tbody>\n",
       "</table>\n",
       "<p>72 rows × 2 columns</p>\n",
       "</div>"
      ],
      "text/plain": [
       "         hour  gender_counts\n",
       "gender                      \n",
       "Male        0           1764\n",
       "Female      0            328\n",
       "unknown     0             29\n",
       "Male        1            986\n",
       "Female      1            168\n",
       "...       ...            ...\n",
       "Female     22            938\n",
       "unknown    22            127\n",
       "Male       23           2873\n",
       "Female     23            622\n",
       "unknown    23             74\n",
       "\n",
       "[72 rows x 2 columns]"
      ]
     },
     "execution_count": 32,
     "metadata": {},
     "output_type": "execute_result"
    }
   ],
   "source": [
    "#reset index result \n",
    "hourgenderdf"
   ]
  },
  {
   "cell_type": "code",
   "execution_count": 33,
   "metadata": {},
   "outputs": [],
   "source": [
    "hourgenderdf.reset_index(level=0, inplace=True)"
   ]
  },
  {
   "cell_type": "code",
   "execution_count": 34,
   "metadata": {},
   "outputs": [
    {
     "data": {
      "text/html": [
       "<div>\n",
       "<style scoped>\n",
       "    .dataframe tbody tr th:only-of-type {\n",
       "        vertical-align: middle;\n",
       "    }\n",
       "\n",
       "    .dataframe tbody tr th {\n",
       "        vertical-align: top;\n",
       "    }\n",
       "\n",
       "    .dataframe thead th {\n",
       "        text-align: right;\n",
       "    }\n",
       "</style>\n",
       "<table border=\"1\" class=\"dataframe\">\n",
       "  <thead>\n",
       "    <tr style=\"text-align: right;\">\n",
       "      <th></th>\n",
       "      <th>gender</th>\n",
       "      <th>hour</th>\n",
       "      <th>gender_counts</th>\n",
       "      <th>gender_avg</th>\n",
       "    </tr>\n",
       "  </thead>\n",
       "  <tbody>\n",
       "    <tr>\n",
       "      <th>0</th>\n",
       "      <td>Male</td>\n",
       "      <td>0</td>\n",
       "      <td>1764</td>\n",
       "      <td>63.000000</td>\n",
       "    </tr>\n",
       "    <tr>\n",
       "      <th>1</th>\n",
       "      <td>Female</td>\n",
       "      <td>0</td>\n",
       "      <td>328</td>\n",
       "      <td>11.714286</td>\n",
       "    </tr>\n",
       "    <tr>\n",
       "      <th>2</th>\n",
       "      <td>unknown</td>\n",
       "      <td>0</td>\n",
       "      <td>29</td>\n",
       "      <td>1.035714</td>\n",
       "    </tr>\n",
       "    <tr>\n",
       "      <th>3</th>\n",
       "      <td>Male</td>\n",
       "      <td>1</td>\n",
       "      <td>986</td>\n",
       "      <td>35.214286</td>\n",
       "    </tr>\n",
       "    <tr>\n",
       "      <th>4</th>\n",
       "      <td>Female</td>\n",
       "      <td>1</td>\n",
       "      <td>168</td>\n",
       "      <td>6.000000</td>\n",
       "    </tr>\n",
       "    <tr>\n",
       "      <th>...</th>\n",
       "      <td>...</td>\n",
       "      <td>...</td>\n",
       "      <td>...</td>\n",
       "      <td>...</td>\n",
       "    </tr>\n",
       "    <tr>\n",
       "      <th>67</th>\n",
       "      <td>Female</td>\n",
       "      <td>22</td>\n",
       "      <td>938</td>\n",
       "      <td>33.500000</td>\n",
       "    </tr>\n",
       "    <tr>\n",
       "      <th>68</th>\n",
       "      <td>unknown</td>\n",
       "      <td>22</td>\n",
       "      <td>127</td>\n",
       "      <td>4.535714</td>\n",
       "    </tr>\n",
       "    <tr>\n",
       "      <th>69</th>\n",
       "      <td>Male</td>\n",
       "      <td>23</td>\n",
       "      <td>2873</td>\n",
       "      <td>102.607143</td>\n",
       "    </tr>\n",
       "    <tr>\n",
       "      <th>70</th>\n",
       "      <td>Female</td>\n",
       "      <td>23</td>\n",
       "      <td>622</td>\n",
       "      <td>22.214286</td>\n",
       "    </tr>\n",
       "    <tr>\n",
       "      <th>71</th>\n",
       "      <td>unknown</td>\n",
       "      <td>23</td>\n",
       "      <td>74</td>\n",
       "      <td>2.642857</td>\n",
       "    </tr>\n",
       "  </tbody>\n",
       "</table>\n",
       "<p>72 rows × 4 columns</p>\n",
       "</div>"
      ],
      "text/plain": [
       "     gender  hour  gender_counts  gender_avg\n",
       "0      Male     0           1764   63.000000\n",
       "1    Female     0            328   11.714286\n",
       "2   unknown     0             29    1.035714\n",
       "3      Male     1            986   35.214286\n",
       "4    Female     1            168    6.000000\n",
       "..      ...   ...            ...         ...\n",
       "67   Female    22            938   33.500000\n",
       "68  unknown    22            127    4.535714\n",
       "69     Male    23           2873  102.607143\n",
       "70   Female    23            622   22.214286\n",
       "71  unknown    23             74    2.642857\n",
       "\n",
       "[72 rows x 4 columns]"
      ]
     },
     "execution_count": 34,
     "metadata": {},
     "output_type": "execute_result"
    }
   ],
   "source": [
    "#divide gender counts by 28 to get average ridership average ridership for each hour of the day for the entire month \n",
    "#(so average ridership for gender 1, rider type 1 at 1 am,)- we don't want counts, we want avg! use avg number\n",
    "hourgenderdf['gender_avg'] =  (hourgenderdf['gender_counts'] / 28)\n",
    "hourgenderdf"
   ]
  },
  {
   "cell_type": "code",
   "execution_count": 35,
   "metadata": {
    "scrolled": true
   },
   "outputs": [
    {
     "data": {
      "text/plain": [
       "array([ 63.        ,  35.21428571,  24.46428571,  14.03571429,\n",
       "        13.85714286,  35.53571429, 130.92857143, 261.64285714,\n",
       "       478.57142857, 401.60714286, 273.17857143, 273.28571429,\n",
       "       332.21428571, 358.17857143, 376.75      , 393.85714286,\n",
       "       472.14285714, 638.03571429, 584.10714286, 406.64285714,\n",
       "       275.39285714, 195.64285714, 163.60714286, 102.60714286])"
      ]
     },
     "execution_count": 35,
     "metadata": {},
     "output_type": "execute_result"
    }
   ],
   "source": [
    "#get male riders per hour per day\n",
    "malegenderdf = hourgenderdf[(hourgenderdf['gender'] == 'Male')]\n",
    "malehourvalues = malegenderdf['gender_avg'].values\n",
    "malehourvalues"
   ]
  },
  {
   "cell_type": "code",
   "execution_count": 36,
   "metadata": {},
   "outputs": [
    {
     "data": {
      "text/plain": [
       "array([ 11.71428571,   6.        ,   2.96428571,   1.42857143,\n",
       "         2.21428571,   7.17857143,  18.71428571,  47.17857143,\n",
       "       108.25      , 100.96428571,  76.71428571,  80.92857143,\n",
       "        92.10714286, 105.64285714, 105.46428571, 104.28571429,\n",
       "       109.85714286, 139.42857143, 120.64285714,  86.78571429,\n",
       "        54.82142857,  42.39285714,  33.5       ,  22.21428571])"
      ]
     },
     "execution_count": 36,
     "metadata": {},
     "output_type": "execute_result"
    }
   ],
   "source": [
    "#get female riders per hour per day\n",
    "femalegenderdf = hourgenderdf[(hourgenderdf['gender'] == 'Female')]\n",
    "femalehourvalues = femalegenderdf['gender_avg'].values\n",
    "femalehourvalues"
   ]
  },
  {
   "cell_type": "code",
   "execution_count": 37,
   "metadata": {},
   "outputs": [
    {
     "data": {
      "text/plain": [
       "array([ 1.03571429,  0.96428571,  0.89285714,  0.60714286,  0.42857143,\n",
       "        0.21428571,  0.5       ,  2.07142857,  4.07142857,  7.5       ,\n",
       "       10.75      , 13.89285714, 20.10714286, 23.78571429, 32.07142857,\n",
       "       33.17857143, 28.71428571, 22.85714286, 11.35714286,  8.21428571,\n",
       "        5.67857143,  4.32142857,  4.53571429,  2.64285714])"
      ]
     },
     "execution_count": 37,
     "metadata": {},
     "output_type": "execute_result"
    }
   ],
   "source": [
    "#get unknown riders per hour per day\n",
    "unknowngenderdf = hourgenderdf[(hourgenderdf['gender'] == 'unknown')]\n",
    "unknownhourvalues = unknowngenderdf['gender_avg'].values\n",
    "unknownhourvalues"
   ]
  },
  {
   "cell_type": "code",
   "execution_count": 38,
   "metadata": {},
   "outputs": [],
   "source": [
    "#set this as an index\n",
    "hourindex = hourgenderdf['hour'].values"
   ]
  },
  {
   "cell_type": "code",
   "execution_count": 39,
   "metadata": {},
   "outputs": [],
   "source": [
    "#keep only uniques\n",
    "hourindex = np.unique(hourindex)"
   ]
  },
  {
   "cell_type": "code",
   "execution_count": 40,
   "metadata": {},
   "outputs": [
    {
     "data": {
      "text/plain": [
       "array([ 0,  1,  2,  3,  4,  5,  6,  7,  8,  9, 10, 11, 12, 13, 14, 15, 16,\n",
       "       17, 18, 19, 20, 21, 22, 23], dtype=int64)"
      ]
     },
     "execution_count": 40,
     "metadata": {},
     "output_type": "execute_result"
    }
   ],
   "source": [
    "#get the index\n",
    "hourindex"
   ]
  },
  {
   "cell_type": "code",
   "execution_count": 41,
   "metadata": {},
   "outputs": [],
   "source": [
    "#do the same what you did for gender for user type\n",
    "citibike_hour_usertype = citibike_feb_gender[['hour','usertype']].groupby(by='hour')\n",
    "houruser = citibike_hour_usertype['usertype'].value_counts()\n",
    "houruserdf = houruser.to_frame()\n",
    "houruserdf.reset_index(level=0, inplace=True)\n",
    "houruserdf.columns = ['hour','usertype_counts']\n",
    "houruserdf.reset_index(level=0, inplace=True)"
   ]
  },
  {
   "cell_type": "code",
   "execution_count": 42,
   "metadata": {},
   "outputs": [
    {
     "data": {
      "text/html": [
       "<div>\n",
       "<style scoped>\n",
       "    .dataframe tbody tr th:only-of-type {\n",
       "        vertical-align: middle;\n",
       "    }\n",
       "\n",
       "    .dataframe tbody tr th {\n",
       "        vertical-align: top;\n",
       "    }\n",
       "\n",
       "    .dataframe thead th {\n",
       "        text-align: right;\n",
       "    }\n",
       "</style>\n",
       "<table border=\"1\" class=\"dataframe\">\n",
       "  <thead>\n",
       "    <tr style=\"text-align: right;\">\n",
       "      <th></th>\n",
       "      <th>usertype</th>\n",
       "      <th>hour</th>\n",
       "      <th>usertype_counts</th>\n",
       "      <th>user_avg</th>\n",
       "    </tr>\n",
       "  </thead>\n",
       "  <tbody>\n",
       "    <tr>\n",
       "      <th>0</th>\n",
       "      <td>Subscriber</td>\n",
       "      <td>0</td>\n",
       "      <td>2092</td>\n",
       "      <td>74.714286</td>\n",
       "    </tr>\n",
       "    <tr>\n",
       "      <th>1</th>\n",
       "      <td>Customer</td>\n",
       "      <td>0</td>\n",
       "      <td>29</td>\n",
       "      <td>1.035714</td>\n",
       "    </tr>\n",
       "    <tr>\n",
       "      <th>2</th>\n",
       "      <td>Subscriber</td>\n",
       "      <td>1</td>\n",
       "      <td>1154</td>\n",
       "      <td>41.214286</td>\n",
       "    </tr>\n",
       "    <tr>\n",
       "      <th>3</th>\n",
       "      <td>Customer</td>\n",
       "      <td>1</td>\n",
       "      <td>27</td>\n",
       "      <td>0.964286</td>\n",
       "    </tr>\n",
       "    <tr>\n",
       "      <th>4</th>\n",
       "      <td>Subscriber</td>\n",
       "      <td>2</td>\n",
       "      <td>768</td>\n",
       "      <td>27.428571</td>\n",
       "    </tr>\n",
       "  </tbody>\n",
       "</table>\n",
       "</div>"
      ],
      "text/plain": [
       "     usertype  hour  usertype_counts   user_avg\n",
       "0  Subscriber     0             2092  74.714286\n",
       "1    Customer     0               29   1.035714\n",
       "2  Subscriber     1             1154  41.214286\n",
       "3    Customer     1               27   0.964286\n",
       "4  Subscriber     2              768  27.428571"
      ]
     },
     "execution_count": 42,
     "metadata": {},
     "output_type": "execute_result"
    }
   ],
   "source": [
    "#get user type avg and check\n",
    "houruserdf['user_avg'] =  (houruserdf['usertype_counts'] / 28)\n",
    "houruserdf.head()"
   ]
  },
  {
   "cell_type": "code",
   "execution_count": 43,
   "metadata": {},
   "outputs": [
    {
     "data": {
      "text/plain": [
       "array([ 1.03571429,  0.96428571,  0.89285714,  0.60714286,  0.42857143,\n",
       "        0.21428571,  0.5       ,  1.82142857,  4.07142857,  7.5       ,\n",
       "       10.75      , 13.85714286, 20.03571429, 23.75      , 32.07142857,\n",
       "       33.17857143, 28.67857143, 22.85714286, 11.28571429,  8.21428571,\n",
       "        5.67857143,  4.32142857,  4.53571429,  2.64285714])"
      ]
     },
     "execution_count": 43,
     "metadata": {},
     "output_type": "execute_result"
    }
   ],
   "source": [
    "#calcualate average customers per hour \n",
    "customerdf = houruserdf[(houruserdf['usertype'] == 'Customer')]\n",
    "customervalues = customerdf['user_avg'].values\n",
    "customervalues"
   ]
  },
  {
   "cell_type": "code",
   "execution_count": 44,
   "metadata": {},
   "outputs": [
    {
     "data": {
      "text/plain": [
       "array([ 74.71428571,  41.21428571,  27.42857143,  15.46428571,\n",
       "        16.07142857,  42.71428571, 149.64285714, 309.07142857,\n",
       "       586.82142857, 502.57142857, 349.89285714, 354.25      ,\n",
       "       424.39285714, 463.85714286, 482.21428571, 498.14285714,\n",
       "       582.03571429, 777.46428571, 704.82142857, 493.42857143,\n",
       "       330.21428571, 238.03571429, 197.10714286, 124.82142857])"
      ]
     },
     "execution_count": 44,
     "metadata": {},
     "output_type": "execute_result"
    }
   ],
   "source": [
    "#calcualate average subscribers per hour \n",
    "subscriberdf = houruserdf[(houruserdf['usertype'] == 'Subscriber')]\n",
    "subscribervalues = subscriberdf['user_avg'].values\n",
    "subscribervalues"
   ]
  },
  {
   "cell_type": "code",
   "execution_count": 45,
   "metadata": {},
   "outputs": [],
   "source": [
    "import matplotlib.patches as mpatches"
   ]
  },
  {
   "cell_type": "code",
   "execution_count": 46,
   "metadata": {
    "scrolled": true
   },
   "outputs": [
    {
     "data": {
      "image/png": "[encoded data removed]",
      "text/plain": [
       "<Figure size 2880x1440 with 2 Axes>"
      ]
     },
     "metadata": {},
     "output_type": "display_data"
    }
   ],
   "source": [
    "#plot it\n",
    "fig1, (ax1,ax2) = plt.subplots(nrows=2, ncols=1, figsize=(40,20))\n",
    "fig1.suptitle ('February 2014 average ridership over each Hour of the Day by Gender + Rider Type ', fontsize=35)\n",
    "\n",
    "ind = hourindex  # use hour index\n",
    "width = 0.45     # the width of the bars\n",
    "\n",
    "ax1.set_title('February 2014 average ridership over each Hour of the Day by Gender', fontsize = 30)\n",
    "ax1.bar(ind, malehourvalues, width, color = 'royalblue' )\n",
    "ax1.bar(ind, femalehourvalues, width, bottom=malehourvalues,color = 'coral')\n",
    "ax1.bar(ind, unknownhourvalues, width, bottom = malehourvalues + femalehourvalues,color='forestgreen')\n",
    "\n",
    "blue_patch = mpatches.Patch(color='royalblue', label='Male')\n",
    "orange_patch = mpatches.Patch(color='coral', label='Female')\n",
    "green_patch = mpatches.Patch(color='forestgreen', label='Unknown')\n",
    "\n",
    "ax1.set_xlabel('Hour', fontsize=30)\n",
    "ax1.set_ylabel('Average Citibike Users', fontsize=30)\n",
    "\n",
    "ax1.legend(handles=[blue_patch,orange_patch,green_patch],fontsize=25)\n",
    "\n",
    "ax1.set_xticks(hourindex[:])\n",
    "ax1.tick_params(axis='both', which='major', labelsize=18)\n",
    "ax1.tick_params(axis='both', which='minor', labelsize=18)\n",
    "\n",
    "ax2.set_title('February 2014 average ridership over each Hour of the Day by Usertype', fontsize = 30)\n",
    "ax2.bar(ind, customervalues, width, color='coral')\n",
    "ax2.bar(ind, subscribervalues, width, bottom=customervalues, color='royalblue')\n",
    "\n",
    "orange_patch2 = mpatches.Patch(color='royalblue', label='subscribervalues')\n",
    "blue_patch2 = mpatches.Patch(color='coral', label='customervalues')\n",
    "\n",
    "ax2.set_xlabel('Hour', fontsize=30)\n",
    "ax2.set_ylabel('Average Citibike Users', fontsize=30)\n",
    "\n",
    "ax2.legend(handles=[blue_patch2,orange_patch2],fontsize=25)\n",
    "\n",
    "ax2.set_xticks(hourindex[:])\n",
    "ax2.tick_params(axis='both', which='major', labelsize=18)\n",
    "ax2.tick_params(axis='both', which='minor', labelsize=18)"
   ]
  },
  {
   "cell_type": "code",
   "execution_count": 47,
   "metadata": {},
   "outputs": [
    {
     "data": {
      "image/png": "[encoded data removed]",
      "text/plain": [
       "<Figure size 2160x720 with 2 Axes>"
      ]
     },
     "metadata": {},
     "output_type": "display_data"
    },
    {
     "data": {
      "image/png": "[encoded data removed]",
      "text/plain": [
       "<Figure size 2160x1440 with 2 Axes>"
      ]
     },
     "metadata": {},
     "output_type": "display_data"
    }
   ],
   "source": [
    "#plot all graphs on one canvas\n",
    "fig1, (ax1,ax2) = plt.subplots(nrows=1, ncols=2, figsize=(30,10))\n",
    "fig2,  (ax3,ax4) = plt.subplots(nrows=2, ncols=1, figsize=(30,20))\n",
    "x = ['Female', 'Male', 'Unknown']\n",
    "y = gender_totals\n",
    "ax1.bar(x,y)\n",
    "ax1.set_title('Citibike Users By Gender', fontsize = 30)\n",
    "ax1.set_xlabel('Gender', fontsize=25)\n",
    "ax1.set_ylabel('Citibike Users', fontsize=25)\n",
    "ax1.tick_params(axis='both', which='major', labelsize=18)\n",
    "ax1.tick_params(axis='both', which='minor', labelsize=18)\n",
    "\n",
    "a = ['Tourist', 'Subscriber']\n",
    "b = usertypevalues\n",
    "ax2.bar(a,b)\n",
    "ax2.set_title('Citibike Users By User Type', fontsize = 30)\n",
    "ax2.set_xlabel('User Type', fontsize=25)\n",
    "ax2.set_ylabel('Citibike Users', fontsize=25)\n",
    "ax2.tick_params(axis='both', which='major', labelsize=18)\n",
    "ax2.tick_params(axis='both', which='minor', labelsize=18)\n",
    "\n",
    "#fig1, (ax1,ax2) = plt.subplots(nrows=2, ncols=1, figsize=(40,25))\n",
    "#fig1.suptitle ('February 2014 average ridership over each Hour of the Day by Gender + Rider Type ', fontsize=35)\n",
    "\n",
    "ind = hourindex  # use hour index\n",
    "width = 0.45     # the width of the bars\n",
    "\n",
    "ax3.set_title('February 2014 average ridership over each Hour of the Day by Gender', fontsize = 30)\n",
    "ax3.bar(ind, malehourvalues, width, color = 'royalblue' )\n",
    "ax3.bar(ind, femalehourvalues, width, bottom=malehourvalues,color = 'coral')\n",
    "ax3.bar(ind, unknownhourvalues, width, bottom = malehourvalues + femalehourvalues,color='forestgreen')\n",
    "\n",
    "blue_patch = mpatches.Patch(color='royalblue', label='Male')\n",
    "orange_patch = mpatches.Patch(color='coral', label='Female')\n",
    "green_patch = mpatches.Patch(color='forestgreen', label='Unknown')\n",
    "\n",
    "ax3.set_xlabel('Hour', fontsize=30)\n",
    "ax3.set_ylabel('Average Citibike Users', fontsize=30)\n",
    "\n",
    "ax3.legend(handles=[blue_patch,orange_patch,green_patch],fontsize=25)\n",
    "\n",
    "ax3.set_xticks(hourindex[:])\n",
    "ax3.tick_params(axis='both', which='major', labelsize=18)\n",
    "ax3.tick_params(axis='both', which='minor', labelsize=18)\n",
    "\n",
    "ax4.set_title('February 2014 average ridership over each Hour of the Day by Usertype', fontsize = 30)\n",
    "ax4.bar(ind, customervalues, width, color='coral')\n",
    "ax4.bar(ind, subscribervalues, width, bottom=customervalues, color='royalblue')\n",
    "\n",
    "orange_patch2 = mpatches.Patch(color='royalblue', label='subscribervalues')\n",
    "blue_patch2 = mpatches.Patch(color='coral', label='customervalues')\n",
    "\n",
    "ax4.set_xlabel('Hour', fontsize=30)\n",
    "ax4.set_ylabel('Average Citibike Users', fontsize=30)\n",
    "\n",
    "ax4.legend(handles=[blue_patch2,orange_patch2],fontsize=25)\n",
    "\n",
    "ax4.set_xticks(hourindex[:])\n",
    "ax4.tick_params(axis='both', which='major', labelsize=18)\n",
    "ax4.tick_params(axis='both', which='minor', labelsize=18)"
   ]
  },
  {
   "cell_type": "markdown",
   "metadata": {},
   "source": [
    "## Task 5. 40 pts. – Suggest and complete an additional descriptive analysis of the CitiBike data\n",
    "### (please use only the data provided).\n"
   ]
  },
  {
   "cell_type": "markdown",
   "metadata": {},
   "source": [
    "### a. 10 pts. - Write the research question you are attempting to answer. Explain why it is interesting, or why we would want to study this question"
   ]
  },
  {
   "cell_type": "markdown",
   "metadata": {},
   "source": [
    "Research Question : How does difference in age play a role in citibike data? See if it factors into trip durations, overall trips for citibike users. \n",
    "\n",
    "Rational: \n",
    "\n",
    "I think we all have biases and a common stereotype is that younger people are generally more active than older people. I mainly want to explore this age data to: \n",
    "1)See if age plays a role in citibike usage \n",
    "2)See overall member numbers for each age group, and trip duration per each age group. \n",
    "\n",
    "This would provide valuable context into how frequently people of different ages use this sevice, which age groups is benefiting it from the most and provide context into the citibike system to which ages to focus on growing thier membership."
   ]
  },
  {
   "cell_type": "markdown",
   "metadata": {},
   "source": [
    "### b. 10 pts. - List the specific data that you will need to get or generate to do this analysis, the steps you will take in this analysis, and how you will visualize your results"
   ]
  },
  {
   "cell_type": "markdown",
   "metadata": {},
   "source": [
    "1.In order to answer this question I will need to define a dataset with 3 main data variables: The age, trip duration and the count of rides. I will use birth year from the current citibike dataset to calculate age. \n",
    "2.I will then group by the ages, aggregating the trip duration using a sum function and overall trips using a count function. After this step I will try to find a good way to divide the ages with a reasonable sample size for each age group. \n",
    "3.Once this is complete I will sum the overall trips and trip duration time. To find average trip duration I will divide the overall trip duration for each age group by the number of trips. \n",
    "4.I will then vizualise these statistics for each age group. For trip counts I will use a bar plot and average trip duration I will use a line plot. \n",
    "\n",
    "\n",
    "(Caveat to Analysis: I will not be performing normalization based on NYC population here, but this is a viable next step to explore citibike data more in depth)\n"
   ]
  },
  {
   "cell_type": "markdown",
   "metadata": {},
   "source": [
    "### c. 10 pts. – Implement these steps in python, printing out any intermediate calculations you may do."
   ]
  },
  {
   "cell_type": "code",
   "execution_count": 48,
   "metadata": {},
   "outputs": [],
   "source": [
    "#define a df keep bike id for count\n",
    "citibike_age= citibike_feb[['birth year','tripduration','bikeid']]"
   ]
  },
  {
   "cell_type": "code",
   "execution_count": 49,
   "metadata": {
    "scrolled": true
   },
   "outputs": [],
   "source": [
    "#define columns\n",
    "citibike_age.columns = ['birthyear','tripduration','bikeid']"
   ]
  },
  {
   "cell_type": "code",
   "execution_count": 50,
   "metadata": {},
   "outputs": [],
   "source": [
    "#citibike_age2.columns = ['birthyear','tripduration','gender','bikeid']"
   ]
  },
  {
   "cell_type": "code",
   "execution_count": 51,
   "metadata": {},
   "outputs": [
    {
     "name": "stderr",
     "output_type": "stream",
     "text": [
      "C:\\Program Files\\ArcGIS\\Pro\\bin\\Python\\envs\\arcgispro-py3\\lib\\site-packages\\ipykernel_launcher.py:1: SettingWithCopyWarning: \n",
      "A value is trying to be set on a copy of a slice from a DataFrame.\n",
      "Try using .loc[row_indexer,col_indexer] = value instead\n",
      "\n",
      "See the caveats in the documentation: https://pandas.pydata.org/pandas-docs/stable/user_guide/indexing.html#returning-a-view-versus-a-copy\n",
      "  \"\"\"Entry point for launching an IPython kernel.\n"
     ]
    }
   ],
   "source": [
    "citibike_age['birthyear'] = pd.to_datetime(citibike_age.birthyear, format=\"%Y\", errors = 'coerce')"
   ]
  },
  {
   "cell_type": "code",
   "execution_count": 52,
   "metadata": {},
   "outputs": [
    {
     "data": {
      "text/plain": [
       "birthyear       datetime64[ns]\n",
       "tripduration             int64\n",
       "bikeid                   int64\n",
       "dtype: object"
      ]
     },
     "execution_count": 52,
     "metadata": {},
     "output_type": "execute_result"
    }
   ],
   "source": [
    "citibike_age.dtypes"
   ]
  },
  {
   "cell_type": "code",
   "execution_count": 53,
   "metadata": {},
   "outputs": [
    {
     "name": "stderr",
     "output_type": "stream",
     "text": [
      "C:\\Program Files\\ArcGIS\\Pro\\bin\\Python\\envs\\arcgispro-py3\\lib\\site-packages\\ipykernel_launcher.py:1: SettingWithCopyWarning: \n",
      "A value is trying to be set on a copy of a slice from a DataFrame.\n",
      "Try using .loc[row_indexer,col_indexer] = value instead\n",
      "\n",
      "See the caveats in the documentation: https://pandas.pydata.org/pandas-docs/stable/user_guide/indexing.html#returning-a-view-versus-a-copy\n",
      "  \"\"\"Entry point for launching an IPython kernel.\n"
     ]
    }
   ],
   "source": [
    "citibike_age['birthyear'] = pd.DatetimeIndex(citibike_age['birthyear']).year "
   ]
  },
  {
   "cell_type": "code",
   "execution_count": 54,
   "metadata": {},
   "outputs": [
    {
     "name": "stderr",
     "output_type": "stream",
     "text": [
      "C:\\Program Files\\ArcGIS\\Pro\\bin\\Python\\envs\\arcgispro-py3\\lib\\site-packages\\ipykernel_launcher.py:2: SettingWithCopyWarning: \n",
      "A value is trying to be set on a copy of a slice from a DataFrame.\n",
      "Try using .loc[row_indexer,col_indexer] = value instead\n",
      "\n",
      "See the caveats in the documentation: https://pandas.pydata.org/pandas-docs/stable/user_guide/indexing.html#returning-a-view-versus-a-copy\n",
      "  \n"
     ]
    }
   ],
   "source": [
    "citibike_age.dropna\n",
    "citibike_age['age'] = (2014 - citibike_age['birthyear'])"
   ]
  },
  {
   "cell_type": "code",
   "execution_count": 55,
   "metadata": {
    "scrolled": false
   },
   "outputs": [
    {
     "data": {
      "text/html": [
       "<div>\n",
       "<style scoped>\n",
       "    .dataframe tbody tr th:only-of-type {\n",
       "        vertical-align: middle;\n",
       "    }\n",
       "\n",
       "    .dataframe tbody tr th {\n",
       "        vertical-align: top;\n",
       "    }\n",
       "\n",
       "    .dataframe thead th {\n",
       "        text-align: right;\n",
       "    }\n",
       "</style>\n",
       "<table border=\"1\" class=\"dataframe\">\n",
       "  <thead>\n",
       "    <tr style=\"text-align: right;\">\n",
       "      <th></th>\n",
       "      <th>birthyear</th>\n",
       "      <th>tripduration</th>\n",
       "      <th>bikeid</th>\n",
       "      <th>age</th>\n",
       "    </tr>\n",
       "  </thead>\n",
       "  <tbody>\n",
       "    <tr>\n",
       "      <th>0</th>\n",
       "      <td>1991.0</td>\n",
       "      <td>382</td>\n",
       "      <td>21101</td>\n",
       "      <td>23.0</td>\n",
       "    </tr>\n",
       "    <tr>\n",
       "      <th>1</th>\n",
       "      <td>1979.0</td>\n",
       "      <td>372</td>\n",
       "      <td>15456</td>\n",
       "      <td>35.0</td>\n",
       "    </tr>\n",
       "    <tr>\n",
       "      <th>2</th>\n",
       "      <td>1948.0</td>\n",
       "      <td>591</td>\n",
       "      <td>16281</td>\n",
       "      <td>66.0</td>\n",
       "    </tr>\n",
       "    <tr>\n",
       "      <th>3</th>\n",
       "      <td>1981.0</td>\n",
       "      <td>583</td>\n",
       "      <td>17400</td>\n",
       "      <td>33.0</td>\n",
       "    </tr>\n",
       "    <tr>\n",
       "      <th>4</th>\n",
       "      <td>1990.0</td>\n",
       "      <td>223</td>\n",
       "      <td>19341</td>\n",
       "      <td>24.0</td>\n",
       "    </tr>\n",
       "    <tr>\n",
       "      <th>...</th>\n",
       "      <td>...</td>\n",
       "      <td>...</td>\n",
       "      <td>...</td>\n",
       "      <td>...</td>\n",
       "    </tr>\n",
       "    <tr>\n",
       "      <th>224731</th>\n",
       "      <td>1976.0</td>\n",
       "      <td>848</td>\n",
       "      <td>17413</td>\n",
       "      <td>38.0</td>\n",
       "    </tr>\n",
       "    <tr>\n",
       "      <th>224732</th>\n",
       "      <td>1985.0</td>\n",
       "      <td>1355</td>\n",
       "      <td>15608</td>\n",
       "      <td>29.0</td>\n",
       "    </tr>\n",
       "    <tr>\n",
       "      <th>224733</th>\n",
       "      <td>1968.0</td>\n",
       "      <td>304</td>\n",
       "      <td>17112</td>\n",
       "      <td>46.0</td>\n",
       "    </tr>\n",
       "    <tr>\n",
       "      <th>224734</th>\n",
       "      <td>1982.0</td>\n",
       "      <td>308</td>\n",
       "      <td>14761</td>\n",
       "      <td>32.0</td>\n",
       "    </tr>\n",
       "    <tr>\n",
       "      <th>224735</th>\n",
       "      <td>1960.0</td>\n",
       "      <td>603</td>\n",
       "      <td>18783</td>\n",
       "      <td>54.0</td>\n",
       "    </tr>\n",
       "  </tbody>\n",
       "</table>\n",
       "<p>224736 rows × 4 columns</p>\n",
       "</div>"
      ],
      "text/plain": [
       "        birthyear  tripduration  bikeid   age\n",
       "0          1991.0           382   21101  23.0\n",
       "1          1979.0           372   15456  35.0\n",
       "2          1948.0           591   16281  66.0\n",
       "3          1981.0           583   17400  33.0\n",
       "4          1990.0           223   19341  24.0\n",
       "...           ...           ...     ...   ...\n",
       "224731     1976.0           848   17413  38.0\n",
       "224732     1985.0          1355   15608  29.0\n",
       "224733     1968.0           304   17112  46.0\n",
       "224734     1982.0           308   14761  32.0\n",
       "224735     1960.0           603   18783  54.0\n",
       "\n",
       "[224736 rows x 4 columns]"
      ]
     },
     "execution_count": 55,
     "metadata": {},
     "output_type": "execute_result"
    }
   ],
   "source": [
    "citibike_age"
   ]
  },
  {
   "cell_type": "code",
   "execution_count": 56,
   "metadata": {},
   "outputs": [
    {
     "data": {
      "text/plain": [
       "birthyear       float64\n",
       "tripduration      int64\n",
       "bikeid            int64\n",
       "age             float64\n",
       "dtype: object"
      ]
     },
     "execution_count": 56,
     "metadata": {},
     "output_type": "execute_result"
    }
   ],
   "source": [
    "citibike_age.dtypes"
   ]
  },
  {
   "cell_type": "code",
   "execution_count": 57,
   "metadata": {
    "scrolled": false
   },
   "outputs": [
    {
     "data": {
      "text/html": [
       "<div>\n",
       "<style scoped>\n",
       "    .dataframe tbody tr th:only-of-type {\n",
       "        vertical-align: middle;\n",
       "    }\n",
       "\n",
       "    .dataframe tbody tr th {\n",
       "        vertical-align: top;\n",
       "    }\n",
       "\n",
       "    .dataframe thead th {\n",
       "        text-align: right;\n",
       "    }\n",
       "</style>\n",
       "<table border=\"1\" class=\"dataframe\">\n",
       "  <thead>\n",
       "    <tr style=\"text-align: right;\">\n",
       "      <th></th>\n",
       "      <th>birthyear</th>\n",
       "      <th>tripduration</th>\n",
       "      <th>bikeid</th>\n",
       "      <th>age</th>\n",
       "    </tr>\n",
       "  </thead>\n",
       "  <tbody>\n",
       "    <tr>\n",
       "      <th>count</th>\n",
       "      <td>218019.000000</td>\n",
       "      <td>224736.000000</td>\n",
       "      <td>224736.000000</td>\n",
       "      <td>218019.000000</td>\n",
       "    </tr>\n",
       "    <tr>\n",
       "      <th>mean</th>\n",
       "      <td>1975.497507</td>\n",
       "      <td>874.519810</td>\n",
       "      <td>18010.598222</td>\n",
       "      <td>38.502493</td>\n",
       "    </tr>\n",
       "    <tr>\n",
       "      <th>std</th>\n",
       "      <td>11.423985</td>\n",
       "      <td>5486.092219</td>\n",
       "      <td>1987.769335</td>\n",
       "      <td>11.423985</td>\n",
       "    </tr>\n",
       "    <tr>\n",
       "      <th>min</th>\n",
       "      <td>1899.000000</td>\n",
       "      <td>60.000000</td>\n",
       "      <td>14529.000000</td>\n",
       "      <td>17.000000</td>\n",
       "    </tr>\n",
       "    <tr>\n",
       "      <th>25%</th>\n",
       "      <td>1968.000000</td>\n",
       "      <td>360.000000</td>\n",
       "      <td>16302.000000</td>\n",
       "      <td>29.000000</td>\n",
       "    </tr>\n",
       "    <tr>\n",
       "      <th>50%</th>\n",
       "      <td>1978.000000</td>\n",
       "      <td>544.000000</td>\n",
       "      <td>17975.000000</td>\n",
       "      <td>36.000000</td>\n",
       "    </tr>\n",
       "    <tr>\n",
       "      <th>75%</th>\n",
       "      <td>1985.000000</td>\n",
       "      <td>845.000000</td>\n",
       "      <td>19689.000000</td>\n",
       "      <td>46.000000</td>\n",
       "    </tr>\n",
       "    <tr>\n",
       "      <th>max</th>\n",
       "      <td>1997.000000</td>\n",
       "      <td>766108.000000</td>\n",
       "      <td>21542.000000</td>\n",
       "      <td>115.000000</td>\n",
       "    </tr>\n",
       "  </tbody>\n",
       "</table>\n",
       "</div>"
      ],
      "text/plain": [
       "           birthyear   tripduration         bikeid            age\n",
       "count  218019.000000  224736.000000  224736.000000  218019.000000\n",
       "mean     1975.497507     874.519810   18010.598222      38.502493\n",
       "std        11.423985    5486.092219    1987.769335      11.423985\n",
       "min      1899.000000      60.000000   14529.000000      17.000000\n",
       "25%      1968.000000     360.000000   16302.000000      29.000000\n",
       "50%      1978.000000     544.000000   17975.000000      36.000000\n",
       "75%      1985.000000     845.000000   19689.000000      46.000000\n",
       "max      1997.000000  766108.000000   21542.000000     115.000000"
      ]
     },
     "execution_count": 57,
     "metadata": {},
     "output_type": "execute_result"
    }
   ],
   "source": [
    "#not sure if 115 is valid let's see how many age values are over 90\n",
    "citibike_age.describe()"
   ]
  },
  {
   "cell_type": "code",
   "execution_count": 58,
   "metadata": {},
   "outputs": [
    {
     "data": {
      "text/plain": [
       "birthyear       134\n",
       "tripduration    134\n",
       "bikeid          134\n",
       "age             134\n",
       "dtype: int64"
      ]
     },
     "execution_count": 58,
     "metadata": {},
     "output_type": "execute_result"
    }
   ],
   "source": [
    "#only 134, pretty low - let's try to get a better sample to include older range \n",
    "citibike_age[(citibike_age['age']>90)].count()"
   ]
  },
  {
   "cell_type": "code",
   "execution_count": 59,
   "metadata": {},
   "outputs": [
    {
     "data": {
      "text/plain": [
       "birthyear       927\n",
       "tripduration    927\n",
       "bikeid          927\n",
       "age             927\n",
       "dtype: int64"
      ]
     },
     "execution_count": 59,
     "metadata": {},
     "output_type": "execute_result"
    }
   ],
   "source": [
    "#70 is stil very little, under 1,00 users \n",
    "citibike_age[(citibike_age['age']>70)].count()\n"
   ]
  },
  {
   "cell_type": "code",
   "execution_count": 60,
   "metadata": {},
   "outputs": [
    {
     "data": {
      "text/plain": [
       "birthyear       3164\n",
       "tripduration    3164\n",
       "bikeid          3164\n",
       "age             3164\n",
       "dtype: int64"
      ]
     },
     "execution_count": 60,
     "metadata": {},
     "output_type": "execute_result"
    }
   ],
   "source": [
    "#65 is significantly more \n",
    "citibike_age[(citibike_age['age']>65)].count()\n"
   ]
  },
  {
   "cell_type": "code",
   "execution_count": 61,
   "metadata": {},
   "outputs": [
    {
     "data": {
      "text/html": [
       "<div>\n",
       "<style scoped>\n",
       "    .dataframe tbody tr th:only-of-type {\n",
       "        vertical-align: middle;\n",
       "    }\n",
       "\n",
       "    .dataframe tbody tr th {\n",
       "        vertical-align: top;\n",
       "    }\n",
       "\n",
       "    .dataframe thead th {\n",
       "        text-align: right;\n",
       "    }\n",
       "</style>\n",
       "<table border=\"1\" class=\"dataframe\">\n",
       "  <thead>\n",
       "    <tr style=\"text-align: right;\">\n",
       "      <th></th>\n",
       "      <th>birthyear</th>\n",
       "      <th>tripduration</th>\n",
       "      <th>bikeid</th>\n",
       "      <th>age</th>\n",
       "    </tr>\n",
       "  </thead>\n",
       "  <tbody>\n",
       "    <tr>\n",
       "      <th>0</th>\n",
       "      <td>1991.0</td>\n",
       "      <td>382</td>\n",
       "      <td>21101</td>\n",
       "      <td>23.0</td>\n",
       "    </tr>\n",
       "    <tr>\n",
       "      <th>1</th>\n",
       "      <td>1979.0</td>\n",
       "      <td>372</td>\n",
       "      <td>15456</td>\n",
       "      <td>35.0</td>\n",
       "    </tr>\n",
       "    <tr>\n",
       "      <th>2</th>\n",
       "      <td>1948.0</td>\n",
       "      <td>591</td>\n",
       "      <td>16281</td>\n",
       "      <td>66.0</td>\n",
       "    </tr>\n",
       "    <tr>\n",
       "      <th>3</th>\n",
       "      <td>1981.0</td>\n",
       "      <td>583</td>\n",
       "      <td>17400</td>\n",
       "      <td>33.0</td>\n",
       "    </tr>\n",
       "    <tr>\n",
       "      <th>4</th>\n",
       "      <td>1990.0</td>\n",
       "      <td>223</td>\n",
       "      <td>19341</td>\n",
       "      <td>24.0</td>\n",
       "    </tr>\n",
       "    <tr>\n",
       "      <th>...</th>\n",
       "      <td>...</td>\n",
       "      <td>...</td>\n",
       "      <td>...</td>\n",
       "      <td>...</td>\n",
       "    </tr>\n",
       "    <tr>\n",
       "      <th>224731</th>\n",
       "      <td>1976.0</td>\n",
       "      <td>848</td>\n",
       "      <td>17413</td>\n",
       "      <td>38.0</td>\n",
       "    </tr>\n",
       "    <tr>\n",
       "      <th>224732</th>\n",
       "      <td>1985.0</td>\n",
       "      <td>1355</td>\n",
       "      <td>15608</td>\n",
       "      <td>29.0</td>\n",
       "    </tr>\n",
       "    <tr>\n",
       "      <th>224733</th>\n",
       "      <td>1968.0</td>\n",
       "      <td>304</td>\n",
       "      <td>17112</td>\n",
       "      <td>46.0</td>\n",
       "    </tr>\n",
       "    <tr>\n",
       "      <th>224734</th>\n",
       "      <td>1982.0</td>\n",
       "      <td>308</td>\n",
       "      <td>14761</td>\n",
       "      <td>32.0</td>\n",
       "    </tr>\n",
       "    <tr>\n",
       "      <th>224735</th>\n",
       "      <td>1960.0</td>\n",
       "      <td>603</td>\n",
       "      <td>18783</td>\n",
       "      <td>54.0</td>\n",
       "    </tr>\n",
       "  </tbody>\n",
       "</table>\n",
       "<p>224736 rows × 4 columns</p>\n",
       "</div>"
      ],
      "text/plain": [
       "        birthyear  tripduration  bikeid   age\n",
       "0          1991.0           382   21101  23.0\n",
       "1          1979.0           372   15456  35.0\n",
       "2          1948.0           591   16281  66.0\n",
       "3          1981.0           583   17400  33.0\n",
       "4          1990.0           223   19341  24.0\n",
       "...           ...           ...     ...   ...\n",
       "224731     1976.0           848   17413  38.0\n",
       "224732     1985.0          1355   15608  29.0\n",
       "224733     1968.0           304   17112  46.0\n",
       "224734     1982.0           308   14761  32.0\n",
       "224735     1960.0           603   18783  54.0\n",
       "\n",
       "[224736 rows x 4 columns]"
      ]
     },
     "execution_count": 61,
     "metadata": {},
     "output_type": "execute_result"
    }
   ],
   "source": [
    "#check it\n",
    "citibike_age"
   ]
  },
  {
   "cell_type": "code",
   "execution_count": 62,
   "metadata": {},
   "outputs": [],
   "source": [
    "#groupby and agg\n",
    "citibike_age_groupby = citibike_age[['tripduration','age','bikeid',]].groupby(by = ['age']).agg({'tripduration':sum ,'bikeid':'count'})"
   ]
  },
  {
   "cell_type": "code",
   "execution_count": 63,
   "metadata": {},
   "outputs": [
    {
     "data": {
      "text/html": [
       "<div>\n",
       "<style scoped>\n",
       "    .dataframe tbody tr th:only-of-type {\n",
       "        vertical-align: middle;\n",
       "    }\n",
       "\n",
       "    .dataframe tbody tr th {\n",
       "        vertical-align: top;\n",
       "    }\n",
       "\n",
       "    .dataframe thead th {\n",
       "        text-align: right;\n",
       "    }\n",
       "</style>\n",
       "<table border=\"1\" class=\"dataframe\">\n",
       "  <thead>\n",
       "    <tr style=\"text-align: right;\">\n",
       "      <th></th>\n",
       "      <th>tripduration</th>\n",
       "      <th>bikeid</th>\n",
       "    </tr>\n",
       "    <tr>\n",
       "      <th>age</th>\n",
       "      <th></th>\n",
       "      <th></th>\n",
       "    </tr>\n",
       "  </thead>\n",
       "  <tbody>\n",
       "    <tr>\n",
       "      <th>17.0</th>\n",
       "      <td>191827</td>\n",
       "      <td>251</td>\n",
       "    </tr>\n",
       "    <tr>\n",
       "      <th>18.0</th>\n",
       "      <td>237541</td>\n",
       "      <td>334</td>\n",
       "    </tr>\n",
       "    <tr>\n",
       "      <th>19.0</th>\n",
       "      <td>567601</td>\n",
       "      <td>827</td>\n",
       "    </tr>\n",
       "    <tr>\n",
       "      <th>20.0</th>\n",
       "      <td>828175</td>\n",
       "      <td>1215</td>\n",
       "    </tr>\n",
       "    <tr>\n",
       "      <th>21.0</th>\n",
       "      <td>1719930</td>\n",
       "      <td>1687</td>\n",
       "    </tr>\n",
       "    <tr>\n",
       "      <th>...</th>\n",
       "      <td>...</td>\n",
       "      <td>...</td>\n",
       "    </tr>\n",
       "    <tr>\n",
       "      <th>104.0</th>\n",
       "      <td>6453</td>\n",
       "      <td>4</td>\n",
       "    </tr>\n",
       "    <tr>\n",
       "      <th>107.0</th>\n",
       "      <td>2874</td>\n",
       "      <td>5</td>\n",
       "    </tr>\n",
       "    <tr>\n",
       "      <th>113.0</th>\n",
       "      <td>14637</td>\n",
       "      <td>11</td>\n",
       "    </tr>\n",
       "    <tr>\n",
       "      <th>114.0</th>\n",
       "      <td>66778</td>\n",
       "      <td>68</td>\n",
       "    </tr>\n",
       "    <tr>\n",
       "      <th>115.0</th>\n",
       "      <td>6475</td>\n",
       "      <td>9</td>\n",
       "    </tr>\n",
       "  </tbody>\n",
       "</table>\n",
       "<p>77 rows × 2 columns</p>\n",
       "</div>"
      ],
      "text/plain": [
       "       tripduration  bikeid\n",
       "age                        \n",
       "17.0         191827     251\n",
       "18.0         237541     334\n",
       "19.0         567601     827\n",
       "20.0         828175    1215\n",
       "21.0        1719930    1687\n",
       "...             ...     ...\n",
       "104.0          6453       4\n",
       "107.0          2874       5\n",
       "113.0         14637      11\n",
       "114.0         66778      68\n",
       "115.0          6475       9\n",
       "\n",
       "[77 rows x 2 columns]"
      ]
     },
     "execution_count": 63,
     "metadata": {},
     "output_type": "execute_result"
    }
   ],
   "source": [
    "#look at result\n",
    "citibike_age_groupby"
   ]
  },
  {
   "cell_type": "code",
   "execution_count": 64,
   "metadata": {},
   "outputs": [],
   "source": [
    "#reset index so you can use it\n",
    "citibike_age_group_noindex = citibike_age_groupby.reset_index()"
   ]
  },
  {
   "cell_type": "code",
   "execution_count": 65,
   "metadata": {},
   "outputs": [
    {
     "data": {
      "text/html": [
       "<div>\n",
       "<style scoped>\n",
       "    .dataframe tbody tr th:only-of-type {\n",
       "        vertical-align: middle;\n",
       "    }\n",
       "\n",
       "    .dataframe tbody tr th {\n",
       "        vertical-align: top;\n",
       "    }\n",
       "\n",
       "    .dataframe thead th {\n",
       "        text-align: right;\n",
       "    }\n",
       "</style>\n",
       "<table border=\"1\" class=\"dataframe\">\n",
       "  <thead>\n",
       "    <tr style=\"text-align: right;\">\n",
       "      <th></th>\n",
       "      <th>age</th>\n",
       "      <th>tripduration</th>\n",
       "      <th>bikeid</th>\n",
       "    </tr>\n",
       "  </thead>\n",
       "  <tbody>\n",
       "    <tr>\n",
       "      <th>0</th>\n",
       "      <td>17.0</td>\n",
       "      <td>191827</td>\n",
       "      <td>251</td>\n",
       "    </tr>\n",
       "    <tr>\n",
       "      <th>1</th>\n",
       "      <td>18.0</td>\n",
       "      <td>237541</td>\n",
       "      <td>334</td>\n",
       "    </tr>\n",
       "    <tr>\n",
       "      <th>2</th>\n",
       "      <td>19.0</td>\n",
       "      <td>567601</td>\n",
       "      <td>827</td>\n",
       "    </tr>\n",
       "    <tr>\n",
       "      <th>3</th>\n",
       "      <td>20.0</td>\n",
       "      <td>828175</td>\n",
       "      <td>1215</td>\n",
       "    </tr>\n",
       "    <tr>\n",
       "      <th>4</th>\n",
       "      <td>21.0</td>\n",
       "      <td>1719930</td>\n",
       "      <td>1687</td>\n",
       "    </tr>\n",
       "    <tr>\n",
       "      <th>...</th>\n",
       "      <td>...</td>\n",
       "      <td>...</td>\n",
       "      <td>...</td>\n",
       "    </tr>\n",
       "    <tr>\n",
       "      <th>72</th>\n",
       "      <td>104.0</td>\n",
       "      <td>6453</td>\n",
       "      <td>4</td>\n",
       "    </tr>\n",
       "    <tr>\n",
       "      <th>73</th>\n",
       "      <td>107.0</td>\n",
       "      <td>2874</td>\n",
       "      <td>5</td>\n",
       "    </tr>\n",
       "    <tr>\n",
       "      <th>74</th>\n",
       "      <td>113.0</td>\n",
       "      <td>14637</td>\n",
       "      <td>11</td>\n",
       "    </tr>\n",
       "    <tr>\n",
       "      <th>75</th>\n",
       "      <td>114.0</td>\n",
       "      <td>66778</td>\n",
       "      <td>68</td>\n",
       "    </tr>\n",
       "    <tr>\n",
       "      <th>76</th>\n",
       "      <td>115.0</td>\n",
       "      <td>6475</td>\n",
       "      <td>9</td>\n",
       "    </tr>\n",
       "  </tbody>\n",
       "</table>\n",
       "<p>77 rows × 3 columns</p>\n",
       "</div>"
      ],
      "text/plain": [
       "      age  tripduration  bikeid\n",
       "0    17.0        191827     251\n",
       "1    18.0        237541     334\n",
       "2    19.0        567601     827\n",
       "3    20.0        828175    1215\n",
       "4    21.0       1719930    1687\n",
       "..    ...           ...     ...\n",
       "72  104.0          6453       4\n",
       "73  107.0          2874       5\n",
       "74  113.0         14637      11\n",
       "75  114.0         66778      68\n",
       "76  115.0          6475       9\n",
       "\n",
       "[77 rows x 3 columns]"
      ]
     },
     "execution_count": 65,
     "metadata": {},
     "output_type": "execute_result"
    }
   ],
   "source": [
    "#look at index\n",
    "citibike_age_group_noindex"
   ]
  },
  {
   "cell_type": "code",
   "execution_count": 66,
   "metadata": {},
   "outputs": [],
   "source": [
    "#define under 25\n",
    "citibike_age_group_under25 = citibike_age_group_noindex.loc[citibike_age_group_noindex['age']< 25]"
   ]
  },
  {
   "cell_type": "code",
   "execution_count": 67,
   "metadata": {},
   "outputs": [
    {
     "data": {
      "text/html": [
       "<div>\n",
       "<style scoped>\n",
       "    .dataframe tbody tr th:only-of-type {\n",
       "        vertical-align: middle;\n",
       "    }\n",
       "\n",
       "    .dataframe tbody tr th {\n",
       "        vertical-align: top;\n",
       "    }\n",
       "\n",
       "    .dataframe thead th {\n",
       "        text-align: right;\n",
       "    }\n",
       "</style>\n",
       "<table border=\"1\" class=\"dataframe\">\n",
       "  <thead>\n",
       "    <tr style=\"text-align: right;\">\n",
       "      <th></th>\n",
       "      <th>age</th>\n",
       "      <th>tripduration</th>\n",
       "      <th>bikeid</th>\n",
       "    </tr>\n",
       "  </thead>\n",
       "  <tbody>\n",
       "    <tr>\n",
       "      <th>0</th>\n",
       "      <td>17.0</td>\n",
       "      <td>191827</td>\n",
       "      <td>251</td>\n",
       "    </tr>\n",
       "    <tr>\n",
       "      <th>1</th>\n",
       "      <td>18.0</td>\n",
       "      <td>237541</td>\n",
       "      <td>334</td>\n",
       "    </tr>\n",
       "    <tr>\n",
       "      <th>2</th>\n",
       "      <td>19.0</td>\n",
       "      <td>567601</td>\n",
       "      <td>827</td>\n",
       "    </tr>\n",
       "    <tr>\n",
       "      <th>3</th>\n",
       "      <td>20.0</td>\n",
       "      <td>828175</td>\n",
       "      <td>1215</td>\n",
       "    </tr>\n",
       "    <tr>\n",
       "      <th>4</th>\n",
       "      <td>21.0</td>\n",
       "      <td>1719930</td>\n",
       "      <td>1687</td>\n",
       "    </tr>\n",
       "    <tr>\n",
       "      <th>5</th>\n",
       "      <td>22.0</td>\n",
       "      <td>1561773</td>\n",
       "      <td>2168</td>\n",
       "    </tr>\n",
       "    <tr>\n",
       "      <th>6</th>\n",
       "      <td>23.0</td>\n",
       "      <td>2310957</td>\n",
       "      <td>3074</td>\n",
       "    </tr>\n",
       "    <tr>\n",
       "      <th>7</th>\n",
       "      <td>24.0</td>\n",
       "      <td>4885785</td>\n",
       "      <td>5697</td>\n",
       "    </tr>\n",
       "  </tbody>\n",
       "</table>\n",
       "</div>"
      ],
      "text/plain": [
       "    age  tripduration  bikeid\n",
       "0  17.0        191827     251\n",
       "1  18.0        237541     334\n",
       "2  19.0        567601     827\n",
       "3  20.0        828175    1215\n",
       "4  21.0       1719930    1687\n",
       "5  22.0       1561773    2168\n",
       "6  23.0       2310957    3074\n",
       "7  24.0       4885785    5697"
      ]
     },
     "execution_count": 67,
     "metadata": {},
     "output_type": "execute_result"
    }
   ],
   "source": [
    "#check the output\n",
    "citibike_age_group_under25"
   ]
  },
  {
   "cell_type": "code",
   "execution_count": 68,
   "metadata": {},
   "outputs": [],
   "source": [
    "#define a df for all of these\n",
    "df_all_ages = pd.DataFrame()"
   ]
  },
  {
   "cell_type": "code",
   "execution_count": 69,
   "metadata": {},
   "outputs": [],
   "source": [
    "#do the rest of the age groups\n",
    "citibike_age_25_35 = citibike_age_group_noindex.loc[(citibike_age_group_noindex['age'] >= 25) & (citibike_age_group_noindex['age'] < 35)]\n",
    "citibike_age_35_45 = citibike_age_group_noindex.loc[(citibike_age_group_noindex['age'] >= 35) & (citibike_age_group_noindex['age'] < 45)]\n",
    "citibike_age_45_55 = citibike_age_group_noindex.loc[(citibike_age_group_noindex['age'] >= 45) & (citibike_age_group_noindex['age'] < 55)]\n",
    "citibike_age_65_over = citibike_age_group_noindex.loc[(citibike_age_group_noindex['age'] > 65)]"
   ]
  },
  {
   "cell_type": "code",
   "execution_count": 70,
   "metadata": {},
   "outputs": [],
   "source": [
    "#append to one df\n",
    "df_all_ages['17-25'] = citibike_age_group_under25.sum()\n",
    "df_all_ages['25-35'] = citibike_age_25_35.sum()\n",
    "df_all_ages['35-45'] = citibike_age_35_45.sum()\n",
    "df_all_ages['45-55'] = citibike_age_45_55.sum()\n",
    "df_all_ages['65+'] = citibike_age_65_over.sum()"
   ]
  },
  {
   "cell_type": "code",
   "execution_count": 71,
   "metadata": {
    "scrolled": false
   },
   "outputs": [
    {
     "data": {
      "text/html": [
       "<div>\n",
       "<style scoped>\n",
       "    .dataframe tbody tr th:only-of-type {\n",
       "        vertical-align: middle;\n",
       "    }\n",
       "\n",
       "    .dataframe tbody tr th {\n",
       "        vertical-align: top;\n",
       "    }\n",
       "\n",
       "    .dataframe thead th {\n",
       "        text-align: right;\n",
       "    }\n",
       "</style>\n",
       "<table border=\"1\" class=\"dataframe\">\n",
       "  <thead>\n",
       "    <tr style=\"text-align: right;\">\n",
       "      <th></th>\n",
       "      <th>17-25</th>\n",
       "      <th>25-35</th>\n",
       "      <th>35-45</th>\n",
       "      <th>45-55</th>\n",
       "      <th>65+</th>\n",
       "    </tr>\n",
       "  </thead>\n",
       "  <tbody>\n",
       "    <tr>\n",
       "      <th>age</th>\n",
       "      <td>164.0</td>\n",
       "      <td>295.0</td>\n",
       "      <td>395.0</td>\n",
       "      <td>495.0</td>\n",
       "      <td>2369.0</td>\n",
       "    </tr>\n",
       "    <tr>\n",
       "      <th>tripduration</th>\n",
       "      <td>12303589.0</td>\n",
       "      <td>65900945.0</td>\n",
       "      <td>48885765.0</td>\n",
       "      <td>35454257.0</td>\n",
       "      <td>3937929.0</td>\n",
       "    </tr>\n",
       "    <tr>\n",
       "      <th>bikeid</th>\n",
       "      <td>15253.0</td>\n",
       "      <td>81532.0</td>\n",
       "      <td>57576.0</td>\n",
       "      <td>40551.0</td>\n",
       "      <td>3164.0</td>\n",
       "    </tr>\n",
       "  </tbody>\n",
       "</table>\n",
       "</div>"
      ],
      "text/plain": [
       "                   17-25       25-35       35-45       45-55        65+\n",
       "age                164.0       295.0       395.0       495.0     2369.0\n",
       "tripduration  12303589.0  65900945.0  48885765.0  35454257.0  3937929.0\n",
       "bikeid           15253.0     81532.0     57576.0     40551.0     3164.0"
      ]
     },
     "execution_count": 71,
     "metadata": {},
     "output_type": "execute_result"
    }
   ],
   "source": [
    "#good result now flip axes it so its easier to work with\n",
    "df_all_ages"
   ]
  },
  {
   "cell_type": "code",
   "execution_count": 72,
   "metadata": {},
   "outputs": [],
   "source": [
    "#use transpose\n",
    "df_all_ages = pd.DataFrame.transpose(df_all_ages)"
   ]
  },
  {
   "cell_type": "code",
   "execution_count": 73,
   "metadata": {},
   "outputs": [
    {
     "data": {
      "text/html": [
       "<div>\n",
       "<style scoped>\n",
       "    .dataframe tbody tr th:only-of-type {\n",
       "        vertical-align: middle;\n",
       "    }\n",
       "\n",
       "    .dataframe tbody tr th {\n",
       "        vertical-align: top;\n",
       "    }\n",
       "\n",
       "    .dataframe thead th {\n",
       "        text-align: right;\n",
       "    }\n",
       "</style>\n",
       "<table border=\"1\" class=\"dataframe\">\n",
       "  <thead>\n",
       "    <tr style=\"text-align: right;\">\n",
       "      <th></th>\n",
       "      <th>age</th>\n",
       "      <th>tripduration</th>\n",
       "      <th>bikeid</th>\n",
       "    </tr>\n",
       "  </thead>\n",
       "  <tbody>\n",
       "    <tr>\n",
       "      <th>17-25</th>\n",
       "      <td>164.0</td>\n",
       "      <td>12303589.0</td>\n",
       "      <td>15253.0</td>\n",
       "    </tr>\n",
       "    <tr>\n",
       "      <th>25-35</th>\n",
       "      <td>295.0</td>\n",
       "      <td>65900945.0</td>\n",
       "      <td>81532.0</td>\n",
       "    </tr>\n",
       "    <tr>\n",
       "      <th>35-45</th>\n",
       "      <td>395.0</td>\n",
       "      <td>48885765.0</td>\n",
       "      <td>57576.0</td>\n",
       "    </tr>\n",
       "    <tr>\n",
       "      <th>45-55</th>\n",
       "      <td>495.0</td>\n",
       "      <td>35454257.0</td>\n",
       "      <td>40551.0</td>\n",
       "    </tr>\n",
       "    <tr>\n",
       "      <th>65+</th>\n",
       "      <td>2369.0</td>\n",
       "      <td>3937929.0</td>\n",
       "      <td>3164.0</td>\n",
       "    </tr>\n",
       "  </tbody>\n",
       "</table>\n",
       "</div>"
      ],
      "text/plain": [
       "          age  tripduration   bikeid\n",
       "17-25   164.0    12303589.0  15253.0\n",
       "25-35   295.0    65900945.0  81532.0\n",
       "35-45   395.0    48885765.0  57576.0\n",
       "45-55   495.0    35454257.0  40551.0\n",
       "65+    2369.0     3937929.0   3164.0"
      ]
     },
     "execution_count": 73,
     "metadata": {},
     "output_type": "execute_result"
    }
   ],
   "source": [
    "#good output here\n",
    "df_all_ages"
   ]
  },
  {
   "cell_type": "code",
   "execution_count": 74,
   "metadata": {},
   "outputs": [],
   "source": [
    "#calculate avg trip duration\n",
    "df_all_ages['tripdurationavg'] = df_all_ages['tripduration'] / df_all_ages['bikeid']\n",
    "#use funct from above for time delta\n",
    "df_all_ages['avgtripduration_time'] = pd.to_timedelta(df_all_ages['tripdurationavg'], unit='s')"
   ]
  },
  {
   "cell_type": "code",
   "execution_count": 75,
   "metadata": {},
   "outputs": [],
   "source": [
    "#round seconds\n",
    "df_all_ages['avgtripduration_time'] = df_all_ages['avgtripduration_time'].dt.round('1s')"
   ]
  },
  {
   "cell_type": "code",
   "execution_count": 76,
   "metadata": {
    "scrolled": false
   },
   "outputs": [
    {
     "data": {
      "text/html": [
       "<div>\n",
       "<style scoped>\n",
       "    .dataframe tbody tr th:only-of-type {\n",
       "        vertical-align: middle;\n",
       "    }\n",
       "\n",
       "    .dataframe tbody tr th {\n",
       "        vertical-align: top;\n",
       "    }\n",
       "\n",
       "    .dataframe thead th {\n",
       "        text-align: right;\n",
       "    }\n",
       "</style>\n",
       "<table border=\"1\" class=\"dataframe\">\n",
       "  <thead>\n",
       "    <tr style=\"text-align: right;\">\n",
       "      <th></th>\n",
       "      <th>age</th>\n",
       "      <th>tripduration</th>\n",
       "      <th>bikeid</th>\n",
       "      <th>tripdurationavg</th>\n",
       "      <th>avgtripduration_time</th>\n",
       "    </tr>\n",
       "  </thead>\n",
       "  <tbody>\n",
       "    <tr>\n",
       "      <th>17-25</th>\n",
       "      <td>164.0</td>\n",
       "      <td>12303589.0</td>\n",
       "      <td>15253.0</td>\n",
       "      <td>806.634039</td>\n",
       "      <td>00:13:27</td>\n",
       "    </tr>\n",
       "    <tr>\n",
       "      <th>25-35</th>\n",
       "      <td>295.0</td>\n",
       "      <td>65900945.0</td>\n",
       "      <td>81532.0</td>\n",
       "      <td>808.283189</td>\n",
       "      <td>00:13:28</td>\n",
       "    </tr>\n",
       "    <tr>\n",
       "      <th>35-45</th>\n",
       "      <td>395.0</td>\n",
       "      <td>48885765.0</td>\n",
       "      <td>57576.0</td>\n",
       "      <td>849.064975</td>\n",
       "      <td>00:14:09</td>\n",
       "    </tr>\n",
       "    <tr>\n",
       "      <th>45-55</th>\n",
       "      <td>495.0</td>\n",
       "      <td>35454257.0</td>\n",
       "      <td>40551.0</td>\n",
       "      <td>874.312767</td>\n",
       "      <td>00:14:34</td>\n",
       "    </tr>\n",
       "    <tr>\n",
       "      <th>65+</th>\n",
       "      <td>2369.0</td>\n",
       "      <td>3937929.0</td>\n",
       "      <td>3164.0</td>\n",
       "      <td>1244.604614</td>\n",
       "      <td>00:20:45</td>\n",
       "    </tr>\n",
       "  </tbody>\n",
       "</table>\n",
       "</div>"
      ],
      "text/plain": [
       "          age  tripduration   bikeid  tripdurationavg avgtripduration_time\n",
       "17-25   164.0    12303589.0  15253.0       806.634039             00:13:27\n",
       "25-35   295.0    65900945.0  81532.0       808.283189             00:13:28\n",
       "35-45   395.0    48885765.0  57576.0       849.064975             00:14:09\n",
       "45-55   495.0    35454257.0  40551.0       874.312767             00:14:34\n",
       "65+    2369.0     3937929.0   3164.0      1244.604614             00:20:45"
      ]
     },
     "execution_count": 76,
     "metadata": {},
     "output_type": "execute_result"
    }
   ],
   "source": [
    "#final df!\n",
    "df_all_ages"
   ]
  },
  {
   "cell_type": "markdown",
   "metadata": {},
   "source": [
    "## interesting results here! \n",
    "The age group that has the most bike users is 25-35 year olds, followed by 35-45, and 45-55\n",
    "It looks like the hypothesis of younger people riding longer is wrong, it's actually the opposite (based on avg trip duration).\n",
    "\n",
    "A  new observed correlation is that younger people are the shorter their trips are or the quicker they are getting to their destination. The difference is minimal though until you look at the above 65 age range."
   ]
  },
  {
   "cell_type": "markdown",
   "metadata": {},
   "source": [
    "### d. 10 pts. - Output a visualization of your results."
   ]
  },
  {
   "cell_type": "code",
   "execution_count": 77,
   "metadata": {},
   "outputs": [
    {
     "data": {
      "text/html": [
       "<div>\n",
       "<style scoped>\n",
       "    .dataframe tbody tr th:only-of-type {\n",
       "        vertical-align: middle;\n",
       "    }\n",
       "\n",
       "    .dataframe tbody tr th {\n",
       "        vertical-align: top;\n",
       "    }\n",
       "\n",
       "    .dataframe thead th {\n",
       "        text-align: right;\n",
       "    }\n",
       "</style>\n",
       "<table border=\"1\" class=\"dataframe\">\n",
       "  <thead>\n",
       "    <tr style=\"text-align: right;\">\n",
       "      <th></th>\n",
       "      <th>bikeid</th>\n",
       "      <th>tripdurationavg</th>\n",
       "    </tr>\n",
       "  </thead>\n",
       "  <tbody>\n",
       "    <tr>\n",
       "      <th>17-25</th>\n",
       "      <td>15253.0</td>\n",
       "      <td>806.634039</td>\n",
       "    </tr>\n",
       "    <tr>\n",
       "      <th>25-35</th>\n",
       "      <td>81532.0</td>\n",
       "      <td>808.283189</td>\n",
       "    </tr>\n",
       "    <tr>\n",
       "      <th>35-45</th>\n",
       "      <td>57576.0</td>\n",
       "      <td>849.064975</td>\n",
       "    </tr>\n",
       "    <tr>\n",
       "      <th>45-55</th>\n",
       "      <td>40551.0</td>\n",
       "      <td>874.312767</td>\n",
       "    </tr>\n",
       "    <tr>\n",
       "      <th>65+</th>\n",
       "      <td>3164.0</td>\n",
       "      <td>1244.604614</td>\n",
       "    </tr>\n",
       "  </tbody>\n",
       "</table>\n",
       "</div>"
      ],
      "text/plain": [
       "        bikeid  tripdurationavg\n",
       "17-25  15253.0       806.634039\n",
       "25-35  81532.0       808.283189\n",
       "35-45  57576.0       849.064975\n",
       "45-55  40551.0       874.312767\n",
       "65+     3164.0      1244.604614"
      ]
     },
     "execution_count": 77,
     "metadata": {},
     "output_type": "execute_result"
    }
   ],
   "source": [
    "#set a df for plotting\n",
    "ages_plot = df_all_ages[['bikeid','tripdurationavg']]\n",
    "ages_plot"
   ]
  },
  {
   "cell_type": "code",
   "execution_count": 78,
   "metadata": {},
   "outputs": [
    {
     "data": {
      "text/html": [
       "<div>\n",
       "<style scoped>\n",
       "    .dataframe tbody tr th:only-of-type {\n",
       "        vertical-align: middle;\n",
       "    }\n",
       "\n",
       "    .dataframe tbody tr th {\n",
       "        vertical-align: top;\n",
       "    }\n",
       "\n",
       "    .dataframe thead th {\n",
       "        text-align: right;\n",
       "    }\n",
       "</style>\n",
       "<table border=\"1\" class=\"dataframe\">\n",
       "  <thead>\n",
       "    <tr style=\"text-align: right;\">\n",
       "      <th></th>\n",
       "      <th>index</th>\n",
       "      <th>bikeid</th>\n",
       "      <th>tripdurationavg</th>\n",
       "    </tr>\n",
       "  </thead>\n",
       "  <tbody>\n",
       "    <tr>\n",
       "      <th>0</th>\n",
       "      <td>17-25</td>\n",
       "      <td>15253.0</td>\n",
       "      <td>806.634039</td>\n",
       "    </tr>\n",
       "    <tr>\n",
       "      <th>1</th>\n",
       "      <td>25-35</td>\n",
       "      <td>81532.0</td>\n",
       "      <td>808.283189</td>\n",
       "    </tr>\n",
       "    <tr>\n",
       "      <th>2</th>\n",
       "      <td>35-45</td>\n",
       "      <td>57576.0</td>\n",
       "      <td>849.064975</td>\n",
       "    </tr>\n",
       "    <tr>\n",
       "      <th>3</th>\n",
       "      <td>45-55</td>\n",
       "      <td>40551.0</td>\n",
       "      <td>874.312767</td>\n",
       "    </tr>\n",
       "    <tr>\n",
       "      <th>4</th>\n",
       "      <td>65+</td>\n",
       "      <td>3164.0</td>\n",
       "      <td>1244.604614</td>\n",
       "    </tr>\n",
       "  </tbody>\n",
       "</table>\n",
       "</div>"
      ],
      "text/plain": [
       "   index   bikeid  tripdurationavg\n",
       "0  17-25  15253.0       806.634039\n",
       "1  25-35  81532.0       808.283189\n",
       "2  35-45  57576.0       849.064975\n",
       "3  45-55  40551.0       874.312767\n",
       "4    65+   3164.0      1244.604614"
      ]
     },
     "execution_count": 78,
     "metadata": {},
     "output_type": "execute_result"
    }
   ],
   "source": [
    "#reset index so you can get series of everything you need\n",
    "ages_plot = ages_plot.reset_index()\n",
    "ages_plot"
   ]
  },
  {
   "cell_type": "code",
   "execution_count": 79,
   "metadata": {},
   "outputs": [],
   "source": [
    "#rename so you can select all columns + for ease\n",
    "ages_plot.columns = ['age_groups','trip_num','tripdurationavg']"
   ]
  },
  {
   "cell_type": "code",
   "execution_count": 80,
   "metadata": {},
   "outputs": [],
   "source": [
    "#get the series for ages, trips and minute time duration plotting\n",
    "agegroups = ages_plot['age_groups'].values\n",
    "num_trips_age = ages_plot['trip_num'].values\n",
    "avg_time_minutes = (ages_plot['tripdurationavg']/60).values"
   ]
  },
  {
   "cell_type": "code",
   "execution_count": 81,
   "metadata": {},
   "outputs": [
    {
     "data": {
      "image/png": "[encoded data removed]",
      "text/plain": [
       "<Figure size 2880x1440 with 2 Axes>"
      ]
     },
     "metadata": {},
     "output_type": "display_data"
    }
   ],
   "source": [
    "#plot!\n",
    "fig1, (ax1,ax2) = plt.subplots(nrows=1, ncols=2, figsize=(40,20))\n",
    "fig1.suptitle('Citibike analysis by age: Overall trips and Trip Duration', fontsize=35)\n",
    "\n",
    "x = (agegroups)\n",
    "y = (num_trips_age)\n",
    "ax1.bar(x,y)\n",
    "ax1.set_title('Citibike trips by age group', fontsize = 30)\n",
    "ax1.set_xlabel('Age Groups', fontsize=25)\n",
    "ax1.set_ylabel('Number of Citibike Trips', fontsize=25)\n",
    "ax1.tick_params(axis='both', which='major', labelsize=18)\n",
    "ax1.tick_params(axis='both', which='minor', labelsize=18)\n",
    "\n",
    "a = (agegroups)\n",
    "b = (avg_time_minutes)\n",
    "ax2.plot(a,b)\n",
    "ax2.set_title('Citibike avg trip duration by age group', fontsize = 30)\n",
    "ax2.set_xlabel('Age Groups', fontsize=25)\n",
    "ax2.set_ylabel('Average Trip Duration (minutes)', fontsize=25)\n",
    "ax2.tick_params(axis='both', which='major', labelsize=18)\n",
    "ax2.tick_params(axis='both', which='minor', labelsize=18)"
   ]
  },
  {
   "cell_type": "code",
   "execution_count": 82,
   "metadata": {},
   "outputs": [],
   "source": [
    "#done!"
   ]
  }
 ],
 "metadata": {
  "kernelspec": {
   "display_name": "Python 3",
   "language": "python",
   "name": "python3"
  },
  "language_info": {
   "codemirror_mode": {
    "name": "ipython",
    "version": 3
   },
   "file_extension": ".py",
   "mimetype": "text/x-python",
   "name": "python",
   "nbconvert_exporter": "python",
   "pygments_lexer": "ipython3",
   "version": "3.6.10"
  }
 },
 "nbformat": 4,
 "nbformat_minor": 4
}
